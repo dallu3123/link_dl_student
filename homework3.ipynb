{
 "cells": [
  {
   "metadata": {},
   "cell_type": "markdown",
   "source": "<h1>[문제1]Fashion MNIST 데이터 정규화를 위한 Mean과 Std 값 찾기",
   "id": "a2e05cc6bbd6553"
  },
  {
   "cell_type": "code",
   "id": "ebdaa7d7",
   "metadata": {
    "ExecuteTime": {
     "end_time": "2024-11-22T15:46:32.876971Z",
     "start_time": "2024-11-22T15:46:27.890857Z"
    }
   },
   "source": [
    "import os\n",
    "from pathlib import Path\n",
    "import torch\n",
    "import wandb\n",
    "from torch import nn, optim\n",
    "\n",
    "from torch.utils.data import DataLoader, random_split\n",
    "from torchvision import datasets\n",
    "from torchvision.transforms import transforms"
   ],
   "outputs": [],
   "execution_count": 2
  },
  {
   "cell_type": "code",
   "id": "c0cfb49d",
   "metadata": {
    "ExecuteTime": {
     "end_time": "2024-11-22T15:46:36.304257Z",
     "start_time": "2024-11-22T15:46:36.287253Z"
    }
   },
   "source": [
    "base_path = os.path.join(os.path.pardir, 'data', 'fashion_mnist')\n",
    "print(base_path)"
   ],
   "outputs": [
    {
     "name": "stdout",
     "output_type": "stream",
     "text": [
      "..\\data\\fashion_mnist\n"
     ]
    }
   ],
   "execution_count": 3
  },
  {
   "cell_type": "code",
   "execution_count": 3,
   "id": "97aeb825",
   "metadata": {},
   "outputs": [
    {
     "name": "stdout",
     "output_type": "stream",
     "text": [
      "Downloading http://fashion-mnist.s3-website.eu-central-1.amazonaws.com/train-images-idx3-ubyte.gz\n",
      "Downloading http://fashion-mnist.s3-website.eu-central-1.amazonaws.com/train-images-idx3-ubyte.gz to ../data/fashion_mnist/FashionMNIST/raw/train-images-idx3-ubyte.gz\n"
     ]
    },
    {
     "name": "stderr",
     "output_type": "stream",
     "text": [
      "100% 26421880/26421880 [00:03<00:00, 6639572.51it/s] \n"
     ]
    },
    {
     "name": "stdout",
     "output_type": "stream",
     "text": [
      "Extracting ../data/fashion_mnist/FashionMNIST/raw/train-images-idx3-ubyte.gz to ../data/fashion_mnist/FashionMNIST/raw\n",
      "\n",
      "Downloading http://fashion-mnist.s3-website.eu-central-1.amazonaws.com/train-labels-idx1-ubyte.gz\n",
      "Downloading http://fashion-mnist.s3-website.eu-central-1.amazonaws.com/train-labels-idx1-ubyte.gz to ../data/fashion_mnist/FashionMNIST/raw/train-labels-idx1-ubyte.gz\n"
     ]
    },
    {
     "name": "stderr",
     "output_type": "stream",
     "text": [
      "100% 29515/29515 [00:00<00:00, 106709.98it/s]\n"
     ]
    },
    {
     "name": "stdout",
     "output_type": "stream",
     "text": [
      "Extracting ../data/fashion_mnist/FashionMNIST/raw/train-labels-idx1-ubyte.gz to ../data/fashion_mnist/FashionMNIST/raw\n",
      "\n",
      "Downloading http://fashion-mnist.s3-website.eu-central-1.amazonaws.com/t10k-images-idx3-ubyte.gz\n",
      "Downloading http://fashion-mnist.s3-website.eu-central-1.amazonaws.com/t10k-images-idx3-ubyte.gz to ../data/fashion_mnist/FashionMNIST/raw/t10k-images-idx3-ubyte.gz\n"
     ]
    },
    {
     "name": "stderr",
     "output_type": "stream",
     "text": [
      "100% 4422102/4422102 [00:03<00:00, 1368901.66it/s]\n"
     ]
    },
    {
     "name": "stdout",
     "output_type": "stream",
     "text": [
      "Extracting ../data/fashion_mnist/FashionMNIST/raw/t10k-images-idx3-ubyte.gz to ../data/fashion_mnist/FashionMNIST/raw\n",
      "\n",
      "Downloading http://fashion-mnist.s3-website.eu-central-1.amazonaws.com/t10k-labels-idx1-ubyte.gz\n",
      "Downloading http://fashion-mnist.s3-website.eu-central-1.amazonaws.com/t10k-labels-idx1-ubyte.gz to ../data/fashion_mnist/FashionMNIST/raw/t10k-labels-idx1-ubyte.gz\n"
     ]
    },
    {
     "name": "stderr",
     "output_type": "stream",
     "text": [
      "100% 5148/5148 [00:00<00:00, 14112599.34it/s]"
     ]
    },
    {
     "name": "stdout",
     "output_type": "stream",
     "text": [
      "Extracting ../data/fashion_mnist/FashionMNIST/raw/t10k-labels-idx1-ubyte.gz to ../data/fashion_mnist/FashionMNIST/raw\n",
      "\n"
     ]
    },
    {
     "name": "stderr",
     "output_type": "stream",
     "text": [
      "\n"
     ]
    }
   ],
   "source": [
    "fashion_mnist_dataset = datasets.FashionMNIST(base_path, train=True, download=True, transform=transforms.ToTensor())"
   ]
  },
  {
   "cell_type": "code",
   "execution_count": 4,
   "id": "476decf0",
   "metadata": {},
   "outputs": [],
   "source": [
    "all_images = torch.cat([fashion_mnist_dataset[i][0] for i in range(len(fashion_mnist_dataset))], dim=0)\n",
    "\n",
    "# 평균과 표준편차 계산\n",
    "mean = all_images.mean().item()\n",
    "std = all_images.std().item()"
   ]
  },
  {
   "cell_type": "code",
   "execution_count": 5,
   "id": "a7ec8245",
   "metadata": {},
   "outputs": [
    {
     "name": "stdout",
     "output_type": "stream",
     "text": [
      "Mean: 0.28604060411453247\n",
      "Standard Deviation: 0.3530242443084717\n"
     ]
    }
   ],
   "source": [
    "print(\"Mean:\", mean)\n",
    "print(\"Standard Deviation:\", std)"
   ]
  },
  {
   "metadata": {},
   "cell_type": "markdown",
   "source": "Mean은 0.2860..., Std는 0.3530...",
   "id": "e15b4b6a1b62653e"
  },
  {
   "metadata": {},
   "cell_type": "markdown",
   "source": "<H1>[문제2]Fashion MNIST 데이터에 대하여 CNN학습 시키기",
   "id": "e12473bd2375104d"
  },
  {
   "cell_type": "code",
   "id": "29b0a310",
   "metadata": {
    "ExecuteTime": {
     "end_time": "2024-11-22T15:46:51.431566Z",
     "start_time": "2024-11-22T15:46:51.414563Z"
    }
   },
   "source": [
    "#fashion_mnist데이터 불러오기 \n",
    "def get_fashion_mnist_data():\n",
    "    \n",
    "    #fashion mnist traindata를 불러오기\n",
    "    f_mnist_train = datasets.FashionMNIST(base_path, train=True, download=True, transform=transforms.ToTensor())\n",
    "    f_mnist_train, f_mnist_validation = random_split(f_mnist_train, [55_000, 5_000])\n",
    "    print(\"Num Train Samples: \", len(f_mnist_train))\n",
    "    print(\"Num Validation Samples: \", len(f_mnist_validation))\n",
    "    print(\"Sample Shape:\", f_mnist_train[0][0].shape)\n",
    "    def get_num_cpu_cores():\n",
    "        import multiprocessing\n",
    "        return multiprocessing.cpu_count()\n",
    "    num_data_loading_workers = get_num_cpu_cores()\n",
    "    \n",
    "    train_data_loader = DataLoader(\n",
    "        dataset=f_mnist_train, batch_size=wandb.config.batch_size, shuffle=True,\n",
    "        pin_memory=True, num_workers=num_data_loading_workers\n",
    "    )\n",
    "    \n",
    "    validation_data_loader = DataLoader(\n",
    "        dataset=f_mnist_validation, batch_size=wandb.config.batch_size, shuffle=False,\n",
    "        pin_memory=True, num_workers=num_data_loading_workers\n",
    "    )\n",
    "    \n",
    "    f_mnist_transforms = nn.Sequential(\n",
    "        transforms.ConvertImageDtype(torch.float),\n",
    "        transforms.Normalize(mean=0.2860, std=0.3530),\n",
    "    )\n",
    "    return train_data_loader, validation_data_loader, f_mnist_transforms"
   ],
   "outputs": [],
   "execution_count": 4
  },
  {
   "cell_type": "code",
   "id": "b079eeba",
   "metadata": {
    "ExecuteTime": {
     "end_time": "2024-11-22T15:46:52.935902Z",
     "start_time": "2024-11-22T15:46:52.920899Z"
    }
   },
   "source": [
    "#fashion_test데이터 불러오기\n",
    "def get_fashion_mnist_test_data():\n",
    "    f_mnist_test_images = datasets.FashionMNIST(base_path, train=False, download=True)\n",
    "    f_mnist_test = datasets.FashionMNIST(base_path, train=False, download=True, transform=transforms.ToTensor())\n",
    "\n",
    "    print(\"Num Test Samples: \", len(f_mnist_test))\n",
    "    print(\"Sample Shape: \", f_mnist_test[0][0].shape)  # torch.Size([1, 28, 28])\n",
    "\n",
    "    test_data_loader = DataLoader(dataset=f_mnist_test, batch_size=len(f_mnist_test))\n",
    "\n",
    "    f_mnist_transforms = nn.Sequential(\n",
    "        transforms.ConvertImageDtype(torch.float),\n",
    "        transforms.Normalize(mean=0.2860, std=0.3530),\n",
    "    )\n",
    "\n",
    "    return f_mnist_test_images, test_data_loader, f_mnist_transforms"
   ],
   "outputs": [],
   "execution_count": 5
  },
  {
   "cell_type": "code",
   "execution_count": 8,
   "id": "002544d7",
   "metadata": {},
   "outputs": [
    {
     "name": "stdout",
     "output_type": "stream",
     "text": [
      "Num Train Samples:  55000\n",
      "Num Validation Samples:  5000\n",
      "Sample Shape: torch.Size([1, 28, 28])\n",
      "\n",
      "Num Test Samples:  10000\n",
      "Sample Shape:  torch.Size([1, 28, 28])\n"
     ]
    }
   ],
   "source": [
    "config = {\n",
    "    'batch_size': 2048,\n",
    "}\n",
    "wandb.init(mode='disabled',config=config)\n",
    "train_data_loader, validation_data_loader, f_mnist_transforms = get_fashion_mnist_data() \n",
    "print()\n",
    "f_mnist_test_images, test_data_loader, f_mnist_transforms = get_fashion_mnist_test_data()"
   ]
  },
  {
   "cell_type": "code",
   "execution_count": 9,
   "id": "fca1e55e",
   "metadata": {},
   "outputs": [],
   "source": [
    "from torchinfo import summary"
   ]
  },
  {
   "cell_type": "code",
   "execution_count": 10,
   "id": "4b24dce3",
   "metadata": {},
   "outputs": [],
   "source": [
    " #가장 기본적인 모델 \n",
    "class FirstModel(nn.Module):\n",
    "    def __init__(self, in_channels, n_output=10):\n",
    "        super().__init__()\n",
    "        self.model = nn.Sequential(\n",
    "            nn.Conv2d(in_channels=in_channels,out_channels=64,kernel_size=(3,3)),\n",
    "            nn.MaxPool2d(kernel_size=(2,2)),\n",
    "            nn.ReLU(),\n",
    "            nn.LazyConv2d(out_channels=64,kernel_size=(3,3)),\n",
    "            nn.MaxPool2d(kernel_size=(2,2)),\n",
    "            nn.ReLU(),\n",
    "            nn.Flatten(),\n",
    "            nn.LazyLinear(out_features=128),\n",
    "            nn.ReLU(),\n",
    "            nn.LazyLinear(out_features=n_output),\n",
    "            nn.Softmax()\n",
    "        )\n",
    "    def forward(self, X):\n",
    "        X = self.model(X)\n",
    "        return X\n",
    "#모델 가져오는 함수\n",
    "def get_cnn_model():\n",
    "    model = FirstModel(in_channels=1)\n",
    "    return model"
   ]
  },
  {
   "cell_type": "code",
   "execution_count": 11,
   "id": "262b41da",
   "metadata": {},
   "outputs": [],
   "source": [
    "from string import Template\n",
    "#제공된 DeltaTemplate 사용\n",
    "class DeltaTemplate(Template):\n",
    "    delimiter = \"%\"\n",
    "\n",
    "    def strfdelta(tdelta, fmt):\n",
    "        d = {\"D\": tdelta.days}\n",
    "        d[\"H\"], rem = divmod(tdelta.seconds, 3600)\n",
    "        d[\"M\"], d[\"S\"] = divmod(rem, 60)\n",
    "        t = DeltaTemplate(fmt)\n",
    "        return t.substitute(**d)\n",
    "    \n",
    "def strfdelta(td, fmt):\n",
    "\n",
    "    # Get the timedelta’s sign and absolute number of seconds.\n",
    "    sign = \"-\" if td.days < 0 else \"+\"\n",
    "    secs = abs(td).total_seconds()\n",
    "\n",
    "    # Break the seconds into more readable quantities.\n",
    "    days, rem = divmod(secs, 86400)  # Seconds per day: 24 * 60 * 60\n",
    "    hours, rem = divmod(rem, 3600)  # Seconds per hour: 60 * 60\n",
    "    mins, secs = divmod(rem, 60)\n",
    "\n",
    "    # Format (as per above answers) and return the result string.\n",
    "    t = DeltaTemplate(fmt)\n",
    "    return t.substitute(\n",
    "        s=sign,\n",
    "        D=\"{:d}\".format(int(days)),\n",
    "        H=\"{:02d}\".format(int(hours)),\n",
    "        M=\"{:02d}\".format(int(mins)),\n",
    "        S=\"{:02d}\".format(int(secs)),\n",
    "        )"
   ]
  },
  {
   "cell_type": "code",
   "execution_count": 12,
   "id": "d61b59b4",
   "metadata": {},
   "outputs": [],
   "source": [
    "#제공된 EarlyStopping클래스 사용\n",
    "class EarlyStopping:\n",
    "\n",
    "    def __init__(self, patience=10, delta=0.00001, project_name=None, checkpoint_file_path=None, run_time_str=None):\n",
    "        self.patience = patience\n",
    "        self.counter = 0\n",
    "        self.delta = delta\n",
    "\n",
    "        self.val_loss_min = None\n",
    "        self.file_path = os.path.join(\n",
    "            checkpoint_file_path, f\"{project_name}_checkpoint_{run_time_str}.pt\"\n",
    "        )\n",
    "        self.latest_file_path = os.path.join(\n",
    "            checkpoint_file_path, f\"{project_name}_checkpoint_latest.pt\"\n",
    "        )\n",
    "\n",
    "    def check_and_save(self, new_validation_loss, model):\n",
    "        early_stop = False\n",
    "\n",
    "        if self.val_loss_min is None:\n",
    "            self.val_loss_min = new_validation_loss\n",
    "            message = f'Early stopping is stated!'\n",
    "        elif new_validation_loss < self.val_loss_min - self.delta:\n",
    "            message = f'V_loss decreased ({self.val_loss_min:7.5f} --> {new_validation_loss:7.5f}). Saving model...'\n",
    "            self.save_checkpoint(new_validation_loss, model)\n",
    "            self.val_loss_min = new_validation_loss\n",
    "            self.counter = 0\n",
    "        else:\n",
    "            self.counter += 1\n",
    "            message = f'Early stopping counter: {self.counter} out of {self.patience}'\n",
    "            if self.counter >= self.patience:\n",
    "                early_stop = True\n",
    "                message += \" *** TRAIN EARLY STOPPED! ***\"\n",
    "\n",
    "        return message, early_stop\n",
    "\n",
    "    def save_checkpoint(self, val_loss, model):\n",
    "        torch.save(model.state_dict(), self.file_path)\n",
    "        torch.save(model.state_dict(), self.latest_file_path)\n",
    "        self.val_loss_min = val_loss"
   ]
  },
  {
   "cell_type": "code",
   "execution_count": 13,
   "id": "3d0421b0",
   "metadata": {},
   "outputs": [],
   "source": [
    "from datetime import datetime\n",
    "#제공된 ClassificationTrainer클래스를 조금 수정해서 사용\n",
    "class Trainer:\n",
    "    def __init__(self, project_name, model, optimizer, train_data_loader, validation_data_loader, transforms, run_time_str, wandb, device, checkpoint_file_path):\n",
    "        self.project_name = project_name\n",
    "        self.model = model\n",
    "        self.optimizer = optimizer\n",
    "        self.train_data_loader = train_data_loader\n",
    "        self.validation_data_loader = validation_data_loader\n",
    "        self.transforms = transforms\n",
    "        self.run_time_str = run_time_str\n",
    "        self.wandb = wandb\n",
    "        self.device = device\n",
    "        self.checkpoint_file_path = checkpoint_file_path\n",
    "        \n",
    "        self.loss_fn = nn.CrossEntropyLoss()\n",
    "    \n",
    "    def do_train(self):\n",
    "        self.model.train()\n",
    "        train_loss = 0.0\n",
    "        num_trains = 0\n",
    "        num_correct = 0\n",
    "        num_trained_samples = 0\n",
    "        for images, labels in self.train_data_loader:\n",
    "            images, labels = images.to(self.device), labels.to(self.device)\n",
    "            if self.transforms:\n",
    "                images = self.transforms(images)\n",
    "            \n",
    "            train_output = self.model(images)\n",
    "            loss = self.loss_fn(train_output, labels)\n",
    "            \n",
    "            train_loss += loss.item()\n",
    "            train_predited = torch.argmax(train_output, dim=-1)\n",
    "            #Accuracy를 구하기위해서 label과 predicted 맞힌 개수\n",
    "            num_correct += (train_predited == labels).sum().item()\n",
    "            num_trained_samples += len(images)\n",
    "            num_trains += 1\n",
    "            \n",
    "            self.optimizer.zero_grad()\n",
    "            loss.backward()\n",
    "            self.optimizer.step()\n",
    "        train_loss /= num_trains\n",
    "        train_accuracy = 100 * num_correct / num_trained_samples\n",
    "        return train_loss, train_accuracy\n",
    "    def do_validation(self):\n",
    "        self.model.eval()\n",
    "        \n",
    "        validation_loss = 0.0\n",
    "        num_validations = 0\n",
    "        num_correct = 0\n",
    "        num_validation_samples = 0\n",
    "        for images, labels in self.validation_data_loader:\n",
    "            images, labels = images.to(self.device), labels.to(self.device)\n",
    "            if self.transforms:\n",
    "                images = self.transforms(images)\n",
    "            output_validation = self.model(images)\n",
    "            validation_loss += self.loss_fn(output_validation, labels).item()\n",
    "            _, predicted = torch.max(output_validation.data, 1)\n",
    "            num_validation_samples += labels.size(0)\n",
    "            num_correct += (predicted == labels).sum().item()\n",
    "            num_validations+=1\n",
    "        \n",
    "        validation_loss /= num_validations\n",
    "        validation_accuracy = 100 * num_correct / num_validation_samples\n",
    "        \n",
    "        return validation_loss, validation_accuracy\n",
    "    \n",
    "    def train_loop(self):\n",
    "        early_stopping = EarlyStopping(\n",
    "            patience=self.wandb.config.early_stop_patience,\n",
    "            delta=self.wandb.config.early_stop_delta,\n",
    "            project_name=self.project_name,\n",
    "            checkpoint_file_path=self.checkpoint_file_path,\n",
    "            run_time_str=self.run_time_str,\n",
    "        )\n",
    "        num_epochs = self.wandb.config.epochs\n",
    "        training_start_time = datetime.now()\n",
    "        for epoch in range(1,num_epochs+1):\n",
    "            train_loss, train_accuracy = self.do_train()\n",
    "            if epoch == 1 or epoch % self.wandb.config.validation_intervals == 0:\n",
    "                validation_loss, validation_accuracy = self.do_validation()\n",
    "                \n",
    "                elapsed_time = datetime.now() - training_start_time\n",
    "                epoch_per_second = 0 if elapsed_time == 0 else epoch / elapsed_time.seconds\n",
    "                \n",
    "                message, early_stop = early_stopping.check_and_save(validation_loss, self.model)\n",
    "                print(\n",
    "                    f\"[Epoch {epoch:>3}] \"\n",
    "                    f\"T_loss: {train_loss:7.5f}, \"\n",
    "                    f\"T_accuracy: {train_accuracy:6.4f} | \"\n",
    "                    f\"V_loss: {validation_loss:7.5f}, \"\n",
    "                    f\"V_accuracy: {validation_accuracy:6.4f} | \"\n",
    "                    f\"{message} | \"\n",
    "                    f\"T_time: {strfdelta(elapsed_time, '%H:%M:%S')}, \"\n",
    "                    f\"T_speed: {epoch_per_second:4.3f}\"\n",
    "                )\n",
    "                self.wandb.log({\n",
    "                    \"Epoch\": epoch,\n",
    "                    \"Training loss\": train_loss,\n",
    "                    \"Training accuracy\": train_accuracy,\n",
    "                    \"Validation loss\": validation_loss,\n",
    "                    \"Validation accuracy (%)\": validation_accuracy,\n",
    "                    \"Training speed (epochs/sec.)\": epoch_per_second,\n",
    "                })\n",
    "                if early_stop:\n",
    "                    break\n",
    "        elapsed_time = datetime.now() - training_start_time\n",
    "        print(f\"Final training time: {strfdelta(elapsed_time, '%H:%M:%S')}\")"
   ]
  },
  {
   "cell_type": "code",
   "execution_count": 14,
   "id": "01f0c438",
   "metadata": {},
   "outputs": [
    {
     "data": {
      "text/plain": [
       "True"
      ]
     },
     "execution_count": 14,
     "metadata": {},
     "output_type": "execute_result"
    }
   ],
   "source": [
    "import wandb\n",
    "wandb.login()"
   ]
  },
  {
   "cell_type": "code",
   "execution_count": 28,
   "id": "e2af4f31",
   "metadata": {},
   "outputs": [],
   "source": [
    "run_time_str = datetime.now().astimezone().strftime('%Y-%m-%d_%H-%M-%S')\n",
    "#하이퍼 파라미터 설정\n",
    "config = {\n",
    "    'epochs': 1000, #epoch는 1000\n",
    "    'batch_size': 128,\n",
    "    'validation_intervals': 10, #train 5번당 validation1번\n",
    "    'learning_rate': 0.001, #learning rate는 0.001\n",
    "    'early_stop_patience': 10, #더이상 validation loss가 10번동안 줄지 않으면 학습 중지\n",
    "    'early_stop_delta': 0.0001 \n",
    "}\n",
    "\n",
    "device = torch.device(\"cuda:0\" if torch.cuda.is_available() else \"cpu\") #gpu 사용가능 여부 체크\n",
    "project_name = 'Fashion_MNIST'"
   ]
  },
  {
   "cell_type": "code",
   "execution_count": 20,
   "id": "ec84077a",
   "metadata": {},
   "outputs": [],
   "source": [
    "class FirstModel_addDropout(nn.Module):\n",
    "    def __init__(self, in_channels, n_output=10):\n",
    "        super().__init__()\n",
    "        # 컨볼루션 층 2번 리니어층 1번하는 모델\n",
    "        self.model = nn.Sequential(\n",
    "            nn.Conv2d(in_channels=in_channels,out_channels=64,kernel_size=(3,3)),\n",
    "            nn.MaxPool2d(kernel_size=(2,2)),\n",
    "            nn.ReLU(),\n",
    "            nn.LazyConv2d(out_channels=64,kernel_size=(3,3)),\n",
    "            nn.MaxPool2d(kernel_size=(2,2)),\n",
    "            nn.ReLU(),\n",
    "            nn.Flatten(),\n",
    "            #기본 모델에 Dropout을 추가함\n",
    "            nn.Dropout(0.5), \n",
    "            nn.LazyLinear(out_features=128),\n",
    "            nn.ReLU(),\n",
    "            nn.LazyLinear(out_features=n_output),\n",
    "            #기본 모델에 Dropout을 추가함\n",
    "            nn.Dropout(0.5),\n",
    "            nn.Softmax()\n",
    "        )\n",
    "    def forward(self, X):\n",
    "        X = self.model(X)\n",
    "        return X\n",
    "def get_fisrtmodel_addDropout():\n",
    "    return FirstModel_addDropout(in_channels=1, n_output=10)"
   ]
  },
  {
   "cell_type": "code",
   "execution_count": 23,
   "id": "5926ef22",
   "metadata": {},
   "outputs": [
    {
     "data": {
      "application/vnd.jupyter.widget-view+json": {
       "model_id": "4d5e781a4b1f4371a2b8aa1041f4c446",
       "version_major": 2,
       "version_minor": 0
      },
      "text/plain": [
       "VBox(children=(Label(value='Waiting for wandb.init()...\\r'), FloatProgress(value=0.011113101409541236, max=1.0…"
      ]
     },
     "metadata": {},
     "output_type": "display_data"
    },
    {
     "data": {
      "text/html": [
       "Tracking run with wandb version 0.18.7"
      ],
      "text/plain": [
       "<IPython.core.display.HTML object>"
      ]
     },
     "metadata": {},
     "output_type": "display_data"
    },
    {
     "data": {
      "text/html": [
       "Run data is saved locally in <code>/home/work/link_dl/wandb/run-20241122_110637-iys6tete</code>"
      ],
      "text/plain": [
       "<IPython.core.display.HTML object>"
      ]
     },
     "metadata": {},
     "output_type": "display_data"
    },
    {
     "data": {
      "text/html": [
       "Syncing run <strong><a href='https://wandb.ai/kjs0820k-korea-university-of-technology-and-education/Fashion_MNIST/runs/iys6tete' target=\"_blank\">firstmodel_addDropout</a></strong> to <a href='https://wandb.ai/kjs0820k-korea-university-of-technology-and-education/Fashion_MNIST' target=\"_blank\">Weights & Biases</a> (<a href='https://wandb.me/developer-guide' target=\"_blank\">docs</a>)<br/>"
      ],
      "text/plain": [
       "<IPython.core.display.HTML object>"
      ]
     },
     "metadata": {},
     "output_type": "display_data"
    },
    {
     "data": {
      "text/html": [
       " View project at <a href='https://wandb.ai/kjs0820k-korea-university-of-technology-and-education/Fashion_MNIST' target=\"_blank\">https://wandb.ai/kjs0820k-korea-university-of-technology-and-education/Fashion_MNIST</a>"
      ],
      "text/plain": [
       "<IPython.core.display.HTML object>"
      ]
     },
     "metadata": {},
     "output_type": "display_data"
    },
    {
     "data": {
      "text/html": [
       " View run at <a href='https://wandb.ai/kjs0820k-korea-university-of-technology-and-education/Fashion_MNIST/runs/iys6tete' target=\"_blank\">https://wandb.ai/kjs0820k-korea-university-of-technology-and-education/Fashion_MNIST/runs/iys6tete</a>"
      ],
      "text/plain": [
       "<IPython.core.display.HTML object>"
      ]
     },
     "metadata": {},
     "output_type": "display_data"
    },
    {
     "name": "stderr",
     "output_type": "stream",
     "text": [
      "/usr/local/lib/python3.10/dist-packages/torch/nn/modules/lazy.py:181: UserWarning: Lazy modules are a new feature under heavy development so changes to the API or functionality can happen at any moment.\n",
      "  warnings.warn('Lazy modules are a new feature under heavy development '\n",
      "/usr/local/lib/python3.10/dist-packages/torch/nn/modules/module.py:1511: UserWarning: Implicit dimension choice for softmax has been deprecated. Change the call to include dim=X as an argument.\n",
      "  return self._call_impl(*args, **kwargs)\n"
     ]
    },
    {
     "name": "stdout",
     "output_type": "stream",
     "text": [
      "[Epoch   1] T_loss: 2.06943, T_accuracy: 38.0073 | V_loss: 1.72327, V_accuracy: 75.2800 | Early stopping is stated! | T_time: 00:00:04, T_speed: 0.250\n",
      "[Epoch   5] T_loss: 1.93145, T_accuracy: 50.7200 | V_loss: 1.62567, V_accuracy: 84.8000 | V_loss decreased (1.72327 --> 1.62567). Saving model... | T_time: 00:00:14, T_speed: 0.357\n",
      "[Epoch  10] T_loss: 1.91426, T_accuracy: 52.3509 | V_loss: 1.59557, V_accuracy: 87.0600 | V_loss decreased (1.62567 --> 1.59557). Saving model... | T_time: 00:00:27, T_speed: 0.370\n",
      "[Epoch  15] T_loss: 1.90663, T_accuracy: 53.0891 | V_loss: 1.58598, V_accuracy: 87.7800 | V_loss decreased (1.59557 --> 1.58598). Saving model... | T_time: 00:00:40, T_speed: 0.375\n",
      "[Epoch  20] T_loss: 1.90253, T_accuracy: 53.4673 | V_loss: 1.58144, V_accuracy: 88.5000 | V_loss decreased (1.58598 --> 1.58144). Saving model... | T_time: 00:00:53, T_speed: 0.377\n",
      "[Epoch  25] T_loss: 1.90076, T_accuracy: 53.3855 | V_loss: 1.56974, V_accuracy: 89.4400 | V_loss decreased (1.58144 --> 1.56974). Saving model... | T_time: 00:01:06, T_speed: 0.379\n",
      "[Epoch  30] T_loss: 1.89592, T_accuracy: 54.0091 | V_loss: 1.56631, V_accuracy: 89.7200 | V_loss decreased (1.56974 --> 1.56631). Saving model... | T_time: 00:01:19, T_speed: 0.380\n",
      "[Epoch  35] T_loss: 1.89186, T_accuracy: 54.3309 | V_loss: 1.56335, V_accuracy: 90.2800 | V_loss decreased (1.56631 --> 1.56335). Saving model... | T_time: 00:01:32, T_speed: 0.380\n",
      "[Epoch  40] T_loss: 1.88731, T_accuracy: 54.7127 | V_loss: 1.55838, V_accuracy: 90.5000 | V_loss decreased (1.56335 --> 1.55838). Saving model... | T_time: 00:01:45, T_speed: 0.381\n",
      "[Epoch  45] T_loss: 1.88612, T_accuracy: 54.9455 | V_loss: 1.55227, V_accuracy: 91.1600 | V_loss decreased (1.55838 --> 1.55227). Saving model... | T_time: 00:01:58, T_speed: 0.381\n",
      "[Epoch  50] T_loss: 1.88433, T_accuracy: 55.0764 | V_loss: 1.55031, V_accuracy: 91.1000 | V_loss decreased (1.55227 --> 1.55031). Saving model... | T_time: 00:02:11, T_speed: 0.382\n",
      "[Epoch  55] T_loss: 1.88406, T_accuracy: 55.1582 | V_loss: 1.55221, V_accuracy: 91.0400 | Early stopping counter: 1 out of 10 | T_time: 00:02:24, T_speed: 0.382\n",
      "[Epoch  60] T_loss: 1.88066, T_accuracy: 55.3636 | V_loss: 1.55252, V_accuracy: 91.1800 | Early stopping counter: 2 out of 10 | T_time: 00:02:37, T_speed: 0.382\n",
      "[Epoch  65] T_loss: 1.88279, T_accuracy: 55.1855 | V_loss: 1.54995, V_accuracy: 91.2600 | V_loss decreased (1.55031 --> 1.54995). Saving model... | T_time: 00:02:50, T_speed: 0.382\n",
      "[Epoch  70] T_loss: 1.88027, T_accuracy: 55.4400 | V_loss: 1.54708, V_accuracy: 91.5400 | V_loss decreased (1.54995 --> 1.54708). Saving model... | T_time: 00:03:03, T_speed: 0.383\n",
      "[Epoch  75] T_loss: 1.88192, T_accuracy: 55.2836 | V_loss: 1.54848, V_accuracy: 91.7200 | Early stopping counter: 1 out of 10 | T_time: 00:03:16, T_speed: 0.383\n",
      "[Epoch  80] T_loss: 1.87752, T_accuracy: 55.6545 | V_loss: 1.54621, V_accuracy: 91.7600 | V_loss decreased (1.54708 --> 1.54621). Saving model... | T_time: 00:03:29, T_speed: 0.383\n",
      "[Epoch  85] T_loss: 1.87818, T_accuracy: 55.7418 | V_loss: 1.54192, V_accuracy: 92.3400 | V_loss decreased (1.54621 --> 1.54192). Saving model... | T_time: 00:03:42, T_speed: 0.383\n",
      "[Epoch  90] T_loss: 1.87591, T_accuracy: 56.0255 | V_loss: 1.54240, V_accuracy: 92.2600 | Early stopping counter: 1 out of 10 | T_time: 00:03:55, T_speed: 0.383\n",
      "[Epoch  95] T_loss: 1.87632, T_accuracy: 55.6309 | V_loss: 1.54340, V_accuracy: 92.1000 | Early stopping counter: 2 out of 10 | T_time: 00:04:08, T_speed: 0.383\n",
      "[Epoch 100] T_loss: 1.87551, T_accuracy: 55.9855 | V_loss: 1.54031, V_accuracy: 92.0800 | V_loss decreased (1.54192 --> 1.54031). Saving model... | T_time: 00:04:20, T_speed: 0.385\n",
      "[Epoch 105] T_loss: 1.87619, T_accuracy: 55.9491 | V_loss: 1.54124, V_accuracy: 92.3000 | Early stopping counter: 1 out of 10 | T_time: 00:04:33, T_speed: 0.385\n",
      "[Epoch 110] T_loss: 1.87267, T_accuracy: 56.1455 | V_loss: 1.53940, V_accuracy: 92.5600 | V_loss decreased (1.54031 --> 1.53940). Saving model... | T_time: 00:04:46, T_speed: 0.385\n",
      "[Epoch 115] T_loss: 1.87207, T_accuracy: 56.1273 | V_loss: 1.53807, V_accuracy: 92.4000 | V_loss decreased (1.53940 --> 1.53807). Saving model... | T_time: 00:04:59, T_speed: 0.385\n",
      "[Epoch 120] T_loss: 1.87148, T_accuracy: 56.4727 | V_loss: 1.53702, V_accuracy: 92.7000 | V_loss decreased (1.53807 --> 1.53702). Saving model... | T_time: 00:05:12, T_speed: 0.385\n",
      "[Epoch 125] T_loss: 1.86825, T_accuracy: 56.5400 | V_loss: 1.53885, V_accuracy: 92.4000 | Early stopping counter: 1 out of 10 | T_time: 00:05:25, T_speed: 0.385\n",
      "[Epoch 130] T_loss: 1.87300, T_accuracy: 56.2473 | V_loss: 1.54068, V_accuracy: 92.2600 | Early stopping counter: 2 out of 10 | T_time: 00:05:38, T_speed: 0.385\n",
      "[Epoch 135] T_loss: 1.87237, T_accuracy: 56.1236 | V_loss: 1.53956, V_accuracy: 92.2600 | Early stopping counter: 3 out of 10 | T_time: 00:05:51, T_speed: 0.385\n",
      "[Epoch 140] T_loss: 1.87547, T_accuracy: 55.7291 | V_loss: 1.53695, V_accuracy: 92.6200 | Early stopping counter: 4 out of 10 | T_time: 00:06:04, T_speed: 0.385\n",
      "[Epoch 145] T_loss: 1.87048, T_accuracy: 56.4127 | V_loss: 1.53470, V_accuracy: 92.7800 | V_loss decreased (1.53702 --> 1.53470). Saving model... | T_time: 00:06:17, T_speed: 0.385\n",
      "[Epoch 150] T_loss: 1.86798, T_accuracy: 56.4836 | V_loss: 1.53624, V_accuracy: 92.7000 | Early stopping counter: 1 out of 10 | T_time: 00:06:30, T_speed: 0.385\n",
      "[Epoch 155] T_loss: 1.86996, T_accuracy: 56.4545 | V_loss: 1.53245, V_accuracy: 93.1400 | V_loss decreased (1.53470 --> 1.53245). Saving model... | T_time: 00:06:43, T_speed: 0.385\n",
      "[Epoch 160] T_loss: 1.86589, T_accuracy: 56.8764 | V_loss: 1.53378, V_accuracy: 93.0600 | Early stopping counter: 1 out of 10 | T_time: 00:06:56, T_speed: 0.385\n",
      "[Epoch 165] T_loss: 1.87052, T_accuracy: 56.4527 | V_loss: 1.53507, V_accuracy: 92.8000 | Early stopping counter: 2 out of 10 | T_time: 00:07:09, T_speed: 0.385\n",
      "[Epoch 170] T_loss: 1.86632, T_accuracy: 56.7691 | V_loss: 1.53397, V_accuracy: 92.8000 | Early stopping counter: 3 out of 10 | T_time: 00:07:22, T_speed: 0.385\n",
      "[Epoch 175] T_loss: 1.86912, T_accuracy: 56.4818 | V_loss: 1.53490, V_accuracy: 92.6400 | Early stopping counter: 4 out of 10 | T_time: 00:07:35, T_speed: 0.385\n",
      "[Epoch 180] T_loss: 1.86780, T_accuracy: 56.7800 | V_loss: 1.53338, V_accuracy: 92.9400 | Early stopping counter: 5 out of 10 | T_time: 00:07:48, T_speed: 0.385\n",
      "[Epoch 185] T_loss: 1.86743, T_accuracy: 56.8309 | V_loss: 1.53442, V_accuracy: 92.7800 | Early stopping counter: 6 out of 10 | T_time: 00:08:01, T_speed: 0.385\n",
      "[Epoch 190] T_loss: 1.86559, T_accuracy: 56.8164 | V_loss: 1.53275, V_accuracy: 92.8800 | Early stopping counter: 7 out of 10 | T_time: 00:08:14, T_speed: 0.385\n",
      "[Epoch 195] T_loss: 1.86457, T_accuracy: 56.9745 | V_loss: 1.53411, V_accuracy: 92.9000 | Early stopping counter: 8 out of 10 | T_time: 00:08:27, T_speed: 0.385\n",
      "[Epoch 200] T_loss: 1.86144, T_accuracy: 57.3855 | V_loss: 1.53372, V_accuracy: 92.8800 | Early stopping counter: 9 out of 10 | T_time: 00:08:40, T_speed: 0.385\n",
      "[Epoch 205] T_loss: 1.86080, T_accuracy: 57.3200 | V_loss: 1.53328, V_accuracy: 92.9600 | Early stopping counter: 10 out of 10 *** TRAIN EARLY STOPPED! *** | T_time: 00:08:53, T_speed: 0.385\n",
      "Final training time: 00:08:53\n"
     ]
    },
    {
     "data": {
      "application/vnd.jupyter.widget-view+json": {
       "model_id": "",
       "version_major": 2,
       "version_minor": 0
      },
      "text/plain": [
       "VBox(children=(Label(value='0.009 MB of 0.009 MB uploaded\\r'), FloatProgress(value=1.0, max=1.0)))"
      ]
     },
     "metadata": {},
     "output_type": "display_data"
    },
    {
     "data": {
      "text/html": [
       "\n",
       "    <style>\n",
       "        .wandb-row {\n",
       "            display: flex;\n",
       "            flex-direction: row;\n",
       "            flex-wrap: wrap;\n",
       "            justify-content: flex-start;\n",
       "            width: 100%;\n",
       "        }\n",
       "        .wandb-col {\n",
       "            display: flex;\n",
       "            flex-direction: column;\n",
       "            flex-basis: 100%;\n",
       "            flex: 1;\n",
       "            padding: 10px;\n",
       "        }\n",
       "    </style>\n",
       "<div class=\"wandb-row\"><div class=\"wandb-col\"><h3>Run history:</h3><br/><table class=\"wandb\"><tr><td>Epoch</td><td>▁▁▁▁▂▂▂▂▂▃▃▃▃▃▃▄▄▄▄▄▅▅▅▅▅▅▆▆▆▆▆▆▇▇▇▇▇▇██</td></tr><tr><td>Training accuracy</td><td>▁▆▆▆▇▇▇▇▇▇▇▇▇▇▇▇▇▇█▇███████▇████████████</td></tr><tr><td>Training loss</td><td>█▃▃▃▂▂▂▂▂▂▂▂▂▂▂▂▂▂▂▂▂▁▁▁▁▁▁▁▁▁▁▁▁▁▁▁▁▁▁▁</td></tr><tr><td>Training speed (epochs/sec.)</td><td>▁▇▇▇████████████████████████████████████</td></tr><tr><td>Validation accuracy (%)</td><td>▁▅▆▆▆▇▇▇▇▇▇▇▇▇▇▇▇███████████████████████</td></tr><tr><td>Validation loss</td><td>█▄▃▃▃▂▂▂▂▂▂▂▂▂▂▂▂▁▁▁▁▁▁▁▁▁▁▁▁▁▁▁▁▁▁▁▁▁▁▁</td></tr></table><br/></div><div class=\"wandb-col\"><h3>Run summary:</h3><br/><table class=\"wandb\"><tr><td>Epoch</td><td>205</td></tr><tr><td>Training accuracy</td><td>57.32</td></tr><tr><td>Training loss</td><td>1.8608</td></tr><tr><td>Training speed (epochs/sec.)</td><td>0.38462</td></tr><tr><td>Validation accuracy (%)</td><td>92.96</td></tr><tr><td>Validation loss</td><td>1.53328</td></tr></table><br/></div></div>"
      ],
      "text/plain": [
       "<IPython.core.display.HTML object>"
      ]
     },
     "metadata": {},
     "output_type": "display_data"
    },
    {
     "data": {
      "text/html": [
       " View run <strong style=\"color:#cdcd00\">firstmodel_addDropout</strong> at: <a href='https://wandb.ai/kjs0820k-korea-university-of-technology-and-education/Fashion_MNIST/runs/iys6tete' target=\"_blank\">https://wandb.ai/kjs0820k-korea-university-of-technology-and-education/Fashion_MNIST/runs/iys6tete</a><br/> View project at: <a href='https://wandb.ai/kjs0820k-korea-university-of-technology-and-education/Fashion_MNIST' target=\"_blank\">https://wandb.ai/kjs0820k-korea-university-of-technology-and-education/Fashion_MNIST</a><br/>Synced 5 W&B file(s), 0 media file(s), 0 artifact file(s) and 0 other file(s)"
      ],
      "text/plain": [
       "<IPython.core.display.HTML object>"
      ]
     },
     "metadata": {},
     "output_type": "display_data"
    },
    {
     "data": {
      "text/html": [
       "Find logs at: <code>./wandb/run-20241122_110637-iys6tete/logs</code>"
      ],
      "text/plain": [
       "<IPython.core.display.HTML object>"
      ]
     },
     "metadata": {},
     "output_type": "display_data"
    }
   ],
   "source": [
    "#모델을 저장하기위한 path\n",
    "first_model_addDropout_path = os.path.join('checkpoint_dropout')\n",
    "name = 'firstmodel_addDropout'\n",
    "wandb.init(\n",
    "    mode='online',\n",
    "    project=project_name,\n",
    "    notes='Fashion_MNIST with various models',\n",
    "    name=name,\n",
    "    config=config,\n",
    ")\n",
    "#모델 불러오는 함수 호출\n",
    "dropout_model = get_fisrtmodel_addDropout()\n",
    "dropout_model.to(device)\n",
    "#adam optimizer를 사용\n",
    "optimizer = torch.optim.Adam(dropout_model.parameters(), lr=wandb.config.learning_rate)\n",
    "classification_trainer = Trainer(\n",
    "    project_name=project_name,model=dropout_model, optimizer=optimizer,train_data_loader=train_data_loader, validation_data_loader=validation_data_loader,\n",
    "    transforms=f_mnist_transforms, run_time_str=run_time_str,wandb=wandb,device=device,checkpoint_file_path=first_model_addDropout_path\n",
    ")\n",
    "#학습 시작\n",
    "classification_trainer.train_loop()\n",
    "wandb.finish()"
   ]
  },
  {
   "cell_type": "code",
   "execution_count": 25,
   "id": "a206c8a1",
   "metadata": {},
   "outputs": [
    {
     "data": {
      "text/plain": [
       "=====================================================================================================================================================================\n",
       "Layer (type:depth-idx)                   Kernel Shape              Input Shape               Output Shape              Param #                   Mult-Adds\n",
       "=====================================================================================================================================================================\n",
       "FirstModel_addDropout                    --                        [1, 1, 28, 28]            [1, 10]                   --                        --\n",
       "├─Sequential: 1-1                        --                        [1, 1, 28, 28]            [1, 10]                   --                        --\n",
       "│    └─Conv2d: 2-1                       [3, 3]                    [1, 1, 28, 28]            [1, 64, 26, 26]           640                       432,640\n",
       "│    └─MaxPool2d: 2-2                    [2, 2]                    [1, 64, 26, 26]           [1, 64, 13, 13]           --                        --\n",
       "│    └─ReLU: 2-3                         --                        [1, 64, 13, 13]           [1, 64, 13, 13]           --                        --\n",
       "│    └─Conv2d: 2-4                       [3, 3]                    [1, 64, 13, 13]           [1, 64, 11, 11]           36,928                    4,468,288\n",
       "│    └─MaxPool2d: 2-5                    [2, 2]                    [1, 64, 11, 11]           [1, 64, 5, 5]             --                        --\n",
       "│    └─ReLU: 2-6                         --                        [1, 64, 5, 5]             [1, 64, 5, 5]             --                        --\n",
       "│    └─Flatten: 2-7                      --                        [1, 64, 5, 5]             [1, 1600]                 --                        --\n",
       "│    └─Dropout: 2-8                      --                        [1, 1600]                 [1, 1600]                 --                        --\n",
       "│    └─Linear: 2-9                       --                        [1, 1600]                 [1, 128]                  204,928                   204,928\n",
       "│    └─ReLU: 2-10                        --                        [1, 128]                  [1, 128]                  --                        --\n",
       "│    └─Linear: 2-11                      --                        [1, 128]                  [1, 10]                   1,290                     1,290\n",
       "│    └─Dropout: 2-12                     --                        [1, 10]                   [1, 10]                   --                        --\n",
       "│    └─Softmax: 2-13                     --                        [1, 10]                   [1, 10]                   --                        --\n",
       "=====================================================================================================================================================================\n",
       "Total params: 243,786\n",
       "Trainable params: 243,786\n",
       "Non-trainable params: 0\n",
       "Total mult-adds (M): 5.11\n",
       "=====================================================================================================================================================================\n",
       "Input size (MB): 0.00\n",
       "Forward/backward pass size (MB): 0.41\n",
       "Params size (MB): 0.98\n",
       "Estimated Total Size (MB): 1.39\n",
       "====================================================================================================================================================================="
      ]
     },
     "execution_count": 25,
     "metadata": {},
     "output_type": "execute_result"
    }
   ],
   "source": [
    "summary(model=dropout_model, input_size=(1, 1, 28, 28),\n",
    "        col_names=[\"kernel_size\", \"input_size\", \"output_size\", \"num_params\", \"mult_adds\"], dtypes=[torch.float] )"
   ]
  },
  {
   "cell_type": "code",
   "execution_count": 29,
   "id": "3d7c1c01",
   "metadata": {},
   "outputs": [],
   "source": [
    "def get_resnet_model():\n",
    "    class Residual(nn.Module):\n",
    "        def __init__(self, num_channels, use_1x1conv=False, strides=1):\n",
    "            super().__init__()\n",
    "            self.conv1 = nn.LazyConv2d(out_channels=num_channels, kernel_size=3, padding=1, stride=strides)\n",
    "            self.conv2 = nn.LazyConv2d(out_channels=num_channels, kernel_size=3, padding=1)\n",
    "            if use_1x1conv:\n",
    "                self.conv3 = nn.LazyConv2d(out_channels=num_channels, kernel_size=1, stride=strides)\n",
    "            else:\n",
    "                self.conv3 = None\n",
    "            self.bn1 = nn.LazyBatchNorm2d()\n",
    "            self.bn2 = nn.LazyBatchNorm2d()\n",
    "\n",
    "        def forward(self, X):\n",
    "            Y = torch.relu(self.bn1(self.conv1(X)))\n",
    "            Y = self.bn2(self.conv2(Y))\n",
    "            if self.conv3:\n",
    "                X = self.conv3(X)\n",
    "            Y += X\n",
    "            return torch.relu(Y)\n",
    "\n",
    "    class ResNet(nn.Module):\n",
    "        def __init__(self, arch, n_outputs=10):\n",
    "            super(ResNet, self).__init__()\n",
    "            self.model = nn.Sequential(\n",
    "                nn.Sequential(\n",
    "                    nn.LazyConv2d(out_channels=64, kernel_size=7, stride=2, padding=3),\n",
    "                    nn.LazyBatchNorm2d(),\n",
    "                    nn.ReLU(),\n",
    "                    nn.Dropout(0.25),\n",
    "                    nn.MaxPool2d(kernel_size=3, stride=2, padding=1)\n",
    "                )\n",
    "            )\n",
    "\n",
    "            # Add residual blocks\n",
    "            for i, (num_residuals, num_channels) in enumerate(arch):\n",
    "                self.model.add_module(\n",
    "                    name=f'block_{i}', \n",
    "                    module=self.block(num_residuals, num_channels, first_block=(i == 0))\n",
    "                )\n",
    "            \n",
    "            # Add the final classification layers\n",
    "            self.model.add_module(\n",
    "                name='last',\n",
    "                module=nn.Sequential(\n",
    "                    nn.AdaptiveAvgPool2d((1, 1)),\n",
    "                    nn.Flatten(),\n",
    "                    nn.Dropout(0.25),\n",
    "                    nn.LazyLinear(n_outputs),\n",
    "                )\n",
    "            )\n",
    "\n",
    "        def block(self, num_residuals, num_channels, first_block=False):\n",
    "            blk = []\n",
    "            for i in range(num_residuals):\n",
    "                if i == 0 and not first_block:\n",
    "                    blk.append(Residual(num_channels=num_channels, use_1x1conv=True, strides=2))\n",
    "                else:\n",
    "                    blk.append(Residual(num_channels=num_channels))\n",
    "            return nn.Sequential(*blk)\n",
    "\n",
    "        def forward(self, x):\n",
    "            return self.model(x)\n",
    "\n",
    "    my_model = ResNet(arch=((2, 64), (2, 128), (2, 256), (2, 512)), n_outputs=10)\n",
    "\n",
    "    return my_model"
   ]
  },
  {
   "cell_type": "code",
   "execution_count": 30,
   "id": "0e0397c7",
   "metadata": {},
   "outputs": [
    {
     "data": {
      "application/vnd.jupyter.widget-view+json": {
       "model_id": "8373bb7307cf4a15b1216265eff8aa33",
       "version_major": 2,
       "version_minor": 0
      },
      "text/plain": [
       "VBox(children=(Label(value='Waiting for wandb.init()...\\r'), FloatProgress(value=0.011113016224569745, max=1.0…"
      ]
     },
     "metadata": {},
     "output_type": "display_data"
    },
    {
     "data": {
      "text/html": [
       "Tracking run with wandb version 0.18.7"
      ],
      "text/plain": [
       "<IPython.core.display.HTML object>"
      ]
     },
     "metadata": {},
     "output_type": "display_data"
    },
    {
     "data": {
      "text/html": [
       "Run data is saved locally in <code>/home/work/link_dl/wandb/run-20241122_113350-2ktz7942</code>"
      ],
      "text/plain": [
       "<IPython.core.display.HTML object>"
      ]
     },
     "metadata": {},
     "output_type": "display_data"
    },
    {
     "data": {
      "text/html": [
       "Syncing run <strong><a href='https://wandb.ai/kjs0820k-korea-university-of-technology-and-education/Fashion_MNIST/runs/2ktz7942' target=\"_blank\">ResnetModel</a></strong> to <a href='https://wandb.ai/kjs0820k-korea-university-of-technology-and-education/Fashion_MNIST' target=\"_blank\">Weights & Biases</a> (<a href='https://wandb.me/developer-guide' target=\"_blank\">docs</a>)<br/>"
      ],
      "text/plain": [
       "<IPython.core.display.HTML object>"
      ]
     },
     "metadata": {},
     "output_type": "display_data"
    },
    {
     "data": {
      "text/html": [
       " View project at <a href='https://wandb.ai/kjs0820k-korea-university-of-technology-and-education/Fashion_MNIST' target=\"_blank\">https://wandb.ai/kjs0820k-korea-university-of-technology-and-education/Fashion_MNIST</a>"
      ],
      "text/plain": [
       "<IPython.core.display.HTML object>"
      ]
     },
     "metadata": {},
     "output_type": "display_data"
    },
    {
     "data": {
      "text/html": [
       " View run at <a href='https://wandb.ai/kjs0820k-korea-university-of-technology-and-education/Fashion_MNIST/runs/2ktz7942' target=\"_blank\">https://wandb.ai/kjs0820k-korea-university-of-technology-and-education/Fashion_MNIST/runs/2ktz7942</a>"
      ],
      "text/plain": [
       "<IPython.core.display.HTML object>"
      ]
     },
     "metadata": {},
     "output_type": "display_data"
    },
    {
     "name": "stdout",
     "output_type": "stream",
     "text": [
      "[Epoch   1] T_loss: 0.78017, T_accuracy: 72.6764 | V_loss: 0.67305, V_accuracy: 77.0000 | Early stopping is stated! | T_time: 00:00:04, T_speed: 0.250\n",
      "[Epoch  10] T_loss: 0.17812, T_accuracy: 93.2891 | V_loss: 0.31496, V_accuracy: 88.7200 | V_loss decreased (0.67305 --> 0.31496). Saving model... | T_time: 00:00:41, T_speed: 0.244\n",
      "[Epoch  20] T_loss: 0.10044, T_accuracy: 96.1782 | V_loss: 0.36200, V_accuracy: 89.0400 | Early stopping counter: 1 out of 10 | T_time: 00:01:23, T_speed: 0.241\n",
      "[Epoch  30] T_loss: 0.06360, T_accuracy: 97.5782 | V_loss: 0.38660, V_accuracy: 89.7400 | Early stopping counter: 2 out of 10 | T_time: 00:02:05, T_speed: 0.240\n",
      "[Epoch  40] T_loss: 0.03995, T_accuracy: 98.5036 | V_loss: 0.38108, V_accuracy: 90.7200 | Early stopping counter: 3 out of 10 | T_time: 00:02:46, T_speed: 0.241\n",
      "[Epoch  50] T_loss: 0.02596, T_accuracy: 99.0164 | V_loss: 0.48603, V_accuracy: 90.1400 | Early stopping counter: 4 out of 10 | T_time: 00:03:28, T_speed: 0.240\n",
      "[Epoch  60] T_loss: 0.02555, T_accuracy: 99.0818 | V_loss: 0.45956, V_accuracy: 89.6000 | Early stopping counter: 5 out of 10 | T_time: 00:04:09, T_speed: 0.241\n",
      "[Epoch  70] T_loss: 0.02145, T_accuracy: 99.2309 | V_loss: 0.44606, V_accuracy: 90.7200 | Early stopping counter: 6 out of 10 | T_time: 00:04:51, T_speed: 0.241\n",
      "[Epoch  80] T_loss: 0.01653, T_accuracy: 99.4000 | V_loss: 0.49910, V_accuracy: 90.1000 | Early stopping counter: 7 out of 10 | T_time: 00:05:32, T_speed: 0.241\n",
      "[Epoch  90] T_loss: 0.01374, T_accuracy: 99.5127 | V_loss: 0.54442, V_accuracy: 88.8600 | Early stopping counter: 8 out of 10 | T_time: 00:06:13, T_speed: 0.241\n",
      "[Epoch 100] T_loss: 0.01524, T_accuracy: 99.4636 | V_loss: 0.43362, V_accuracy: 91.0200 | Early stopping counter: 9 out of 10 | T_time: 00:06:55, T_speed: 0.241\n",
      "[Epoch 110] T_loss: 0.01338, T_accuracy: 99.5564 | V_loss: 0.47874, V_accuracy: 90.9800 | Early stopping counter: 10 out of 10 *** TRAIN EARLY STOPPED! *** | T_time: 00:07:36, T_speed: 0.241\n",
      "Final training time: 00:07:36\n"
     ]
    },
    {
     "data": {
      "application/vnd.jupyter.widget-view+json": {
       "model_id": "",
       "version_major": 2,
       "version_minor": 0
      },
      "text/plain": [
       "VBox(children=(Label(value='0.009 MB of 0.009 MB uploaded\\r'), FloatProgress(value=1.0, max=1.0)))"
      ]
     },
     "metadata": {},
     "output_type": "display_data"
    },
    {
     "data": {
      "text/html": [
       "\n",
       "    <style>\n",
       "        .wandb-row {\n",
       "            display: flex;\n",
       "            flex-direction: row;\n",
       "            flex-wrap: wrap;\n",
       "            justify-content: flex-start;\n",
       "            width: 100%;\n",
       "        }\n",
       "        .wandb-col {\n",
       "            display: flex;\n",
       "            flex-direction: column;\n",
       "            flex-basis: 100%;\n",
       "            flex: 1;\n",
       "            padding: 10px;\n",
       "        }\n",
       "    </style>\n",
       "<div class=\"wandb-row\"><div class=\"wandb-col\"><h3>Run history:</h3><br/><table class=\"wandb\"><tr><td>Epoch</td><td>▁▂▂▃▄▄▅▅▆▇▇█</td></tr><tr><td>Training accuracy</td><td>▁▆▇▇████████</td></tr><tr><td>Training loss</td><td>█▃▂▁▁▁▁▁▁▁▁▁</td></tr><tr><td>Training speed (epochs/sec.)</td><td>█▄▂▁▂▁▂▁▂▂▂▂</td></tr><tr><td>Validation accuracy (%)</td><td>▁▇▇▇██▇██▇██</td></tr><tr><td>Validation loss</td><td>█▁▂▂▂▄▄▄▅▅▃▄</td></tr></table><br/></div><div class=\"wandb-col\"><h3>Run summary:</h3><br/><table class=\"wandb\"><tr><td>Epoch</td><td>110</td></tr><tr><td>Training accuracy</td><td>99.55636</td></tr><tr><td>Training loss</td><td>0.01338</td></tr><tr><td>Training speed (epochs/sec.)</td><td>0.24123</td></tr><tr><td>Validation accuracy (%)</td><td>90.98</td></tr><tr><td>Validation loss</td><td>0.47874</td></tr></table><br/></div></div>"
      ],
      "text/plain": [
       "<IPython.core.display.HTML object>"
      ]
     },
     "metadata": {},
     "output_type": "display_data"
    },
    {
     "data": {
      "text/html": [
       " View run <strong style=\"color:#cdcd00\">ResnetModel</strong> at: <a href='https://wandb.ai/kjs0820k-korea-university-of-technology-and-education/Fashion_MNIST/runs/2ktz7942' target=\"_blank\">https://wandb.ai/kjs0820k-korea-university-of-technology-and-education/Fashion_MNIST/runs/2ktz7942</a><br/> View project at: <a href='https://wandb.ai/kjs0820k-korea-university-of-technology-and-education/Fashion_MNIST' target=\"_blank\">https://wandb.ai/kjs0820k-korea-university-of-technology-and-education/Fashion_MNIST</a><br/>Synced 5 W&B file(s), 0 media file(s), 0 artifact file(s) and 0 other file(s)"
      ],
      "text/plain": [
       "<IPython.core.display.HTML object>"
      ]
     },
     "metadata": {},
     "output_type": "display_data"
    },
    {
     "data": {
      "text/html": [
       "Find logs at: <code>./wandb/run-20241122_113350-2ktz7942/logs</code>"
      ],
      "text/plain": [
       "<IPython.core.display.HTML object>"
      ]
     },
     "metadata": {},
     "output_type": "display_data"
    }
   ],
   "source": [
    "name = 'ResnetModel'\n",
    "wandb.init(\n",
    "    mode='online',\n",
    "    project=project_name,\n",
    "    notes='Fashion_MNIST with various models',\n",
    "    name=name,\n",
    "    config=config,\n",
    ")\n",
    "Resnet_model = get_resnet_model()\n",
    "Resnet_model.to(device)\n",
    "optimizer = torch.optim.Adam(Resnet_model.parameters(), lr=wandb.config.learning_rate)\n",
    "Resnet_checkout = os.path.join('checkpoint_resnet')\n",
    "classification_trainer = Trainer(\n",
    "    project_name=project_name,model=Resnet_model, optimizer=optimizer,train_data_loader=train_data_loader, validation_data_loader=validation_data_loader,\n",
    "    transforms=f_mnist_transforms, run_time_str=run_time_str,wandb=wandb,device=device,checkpoint_file_path=Resnet_checkout\n",
    ")\n",
    "classification_trainer.train_loop()\n",
    "wandb.finish()"
   ]
  },
  {
   "cell_type": "code",
   "execution_count": 32,
   "id": "4e9d7a1d",
   "metadata": {},
   "outputs": [],
   "source": [
    "class second_model(nn.Module):\n",
    "    def __init__(self, input_channels = 1, n_output=10):\n",
    "        super().__init__()\n",
    "        self.model = nn.Sequential(\n",
    "            nn.LazyConv2d(out_channels=32, kernel_size=(3,3), stride=1),\n",
    "            nn.ReLU(),\n",
    "            nn.LazyBatchNorm2d(),\n",
    "            nn.Dropout(0.25),\n",
    "            nn.MaxPool2d(kernel_size=(2,2), stride=2),\n",
    "            nn.LazyConv2d(out_channels=64, kernel_size=(3,3), stride=1),\n",
    "            nn.ReLU(),\n",
    "            nn.MaxPool2d(kernel_size=(2,2), stride=2),\n",
    "            nn.Flatten(),\n",
    "            nn.Dropout(0.25),\n",
    "            nn.LazyLinear(out_features=128),\n",
    "            nn.ReLU(),\n",
    "            nn.LazyBatchNorm1d(),\n",
    "            nn.Dropout(0.25),\n",
    "            nn.LazyLinear(n_output),\n",
    "            nn.Softmax(),\n",
    "        )\n",
    "    def forward(self, x):\n",
    "        x = self.model(x)\n",
    "        return x\n",
    "\n",
    "def get_second_model():\n",
    "    model = second_model()\n",
    "    return model"
   ]
  },
  {
   "cell_type": "code",
   "execution_count": 33,
   "id": "2d087d60",
   "metadata": {},
   "outputs": [
    {
     "data": {
      "application/vnd.jupyter.widget-view+json": {
       "model_id": "65c5edf2a2524a2bafae8021531207d8",
       "version_major": 2,
       "version_minor": 0
      },
      "text/plain": [
       "VBox(children=(Label(value='Waiting for wandb.init()...\\r'), FloatProgress(value=0.011112420095337762, max=1.0…"
      ]
     },
     "metadata": {},
     "output_type": "display_data"
    },
    {
     "data": {
      "text/html": [
       "Tracking run with wandb version 0.18.7"
      ],
      "text/plain": [
       "<IPython.core.display.HTML object>"
      ]
     },
     "metadata": {},
     "output_type": "display_data"
    },
    {
     "data": {
      "text/html": [
       "Run data is saved locally in <code>/home/work/link_dl/wandb/run-20241122_114550-dffx7l9m</code>"
      ],
      "text/plain": [
       "<IPython.core.display.HTML object>"
      ]
     },
     "metadata": {},
     "output_type": "display_data"
    },
    {
     "data": {
      "text/html": [
       "Syncing run <strong><a href='https://wandb.ai/kjs0820k-korea-university-of-technology-and-education/Fashion_MNIST/runs/dffx7l9m' target=\"_blank\">second_model</a></strong> to <a href='https://wandb.ai/kjs0820k-korea-university-of-technology-and-education/Fashion_MNIST' target=\"_blank\">Weights & Biases</a> (<a href='https://wandb.me/developer-guide' target=\"_blank\">docs</a>)<br/>"
      ],
      "text/plain": [
       "<IPython.core.display.HTML object>"
      ]
     },
     "metadata": {},
     "output_type": "display_data"
    },
    {
     "data": {
      "text/html": [
       " View project at <a href='https://wandb.ai/kjs0820k-korea-university-of-technology-and-education/Fashion_MNIST' target=\"_blank\">https://wandb.ai/kjs0820k-korea-university-of-technology-and-education/Fashion_MNIST</a>"
      ],
      "text/plain": [
       "<IPython.core.display.HTML object>"
      ]
     },
     "metadata": {},
     "output_type": "display_data"
    },
    {
     "data": {
      "text/html": [
       " View run at <a href='https://wandb.ai/kjs0820k-korea-university-of-technology-and-education/Fashion_MNIST/runs/dffx7l9m' target=\"_blank\">https://wandb.ai/kjs0820k-korea-university-of-technology-and-education/Fashion_MNIST/runs/dffx7l9m</a>"
      ],
      "text/plain": [
       "<IPython.core.display.HTML object>"
      ]
     },
     "metadata": {},
     "output_type": "display_data"
    },
    {
     "name": "stdout",
     "output_type": "stream",
     "text": [
      "[Epoch   1] T_loss: 1.80080, T_accuracy: 71.6764 | V_loss: 1.74983, V_accuracy: 79.8600 | Early stopping is stated! | T_time: 00:00:02, T_speed: 0.500\n",
      "[Epoch  10] T_loss: 1.56010, T_accuracy: 90.6655 | V_loss: 1.55858, V_accuracy: 90.6400 | V_loss decreased (1.74983 --> 1.55858). Saving model... | T_time: 00:00:25, T_speed: 0.400\n",
      "[Epoch  20] T_loss: 1.54244, T_accuracy: 92.2000 | V_loss: 1.55332, V_accuracy: 91.0000 | V_loss decreased (1.55858 --> 1.55332). Saving model... | T_time: 00:00:51, T_speed: 0.392\n",
      "[Epoch  30] T_loss: 1.53213, T_accuracy: 93.2255 | V_loss: 1.54804, V_accuracy: 91.3800 | V_loss decreased (1.55332 --> 1.54804). Saving model... | T_time: 00:01:16, T_speed: 0.395\n",
      "[Epoch  40] T_loss: 1.52385, T_accuracy: 93.9982 | V_loss: 1.53840, V_accuracy: 92.6200 | V_loss decreased (1.54804 --> 1.53840). Saving model... | T_time: 00:01:42, T_speed: 0.392\n",
      "[Epoch  50] T_loss: 1.51854, T_accuracy: 94.5182 | V_loss: 1.53509, V_accuracy: 92.6400 | V_loss decreased (1.53840 --> 1.53509). Saving model... | T_time: 00:02:07, T_speed: 0.394\n",
      "[Epoch  60] T_loss: 1.51415, T_accuracy: 94.9164 | V_loss: 1.53327, V_accuracy: 92.8800 | V_loss decreased (1.53509 --> 1.53327). Saving model... | T_time: 00:02:33, T_speed: 0.392\n",
      "[Epoch  70] T_loss: 1.51076, T_accuracy: 95.2109 | V_loss: 1.53757, V_accuracy: 92.3400 | Early stopping counter: 1 out of 10 | T_time: 00:02:58, T_speed: 0.393\n",
      "[Epoch  80] T_loss: 1.50798, T_accuracy: 95.5073 | V_loss: 1.53554, V_accuracy: 92.6200 | Early stopping counter: 2 out of 10 | T_time: 00:03:23, T_speed: 0.394\n",
      "[Epoch  90] T_loss: 1.50664, T_accuracy: 95.6055 | V_loss: 1.53705, V_accuracy: 92.3400 | Early stopping counter: 3 out of 10 | T_time: 00:03:48, T_speed: 0.395\n",
      "[Epoch 100] T_loss: 1.50397, T_accuracy: 95.8327 | V_loss: 1.53654, V_accuracy: 92.4800 | Early stopping counter: 4 out of 10 | T_time: 00:04:14, T_speed: 0.394\n",
      "[Epoch 110] T_loss: 1.50126, T_accuracy: 96.1509 | V_loss: 1.52997, V_accuracy: 93.2000 | V_loss decreased (1.53327 --> 1.52997). Saving model... | T_time: 00:04:39, T_speed: 0.394\n",
      "[Epoch 120] T_loss: 1.50107, T_accuracy: 96.1182 | V_loss: 1.53079, V_accuracy: 93.0400 | Early stopping counter: 1 out of 10 | T_time: 00:05:04, T_speed: 0.395\n",
      "[Epoch 130] T_loss: 1.49966, T_accuracy: 96.3309 | V_loss: 1.53108, V_accuracy: 92.8800 | Early stopping counter: 2 out of 10 | T_time: 00:05:30, T_speed: 0.394\n",
      "[Epoch 140] T_loss: 1.49847, T_accuracy: 96.3945 | V_loss: 1.53043, V_accuracy: 93.1600 | Early stopping counter: 3 out of 10 | T_time: 00:05:55, T_speed: 0.394\n",
      "[Epoch 150] T_loss: 1.49602, T_accuracy: 96.6309 | V_loss: 1.52959, V_accuracy: 93.2600 | V_loss decreased (1.52997 --> 1.52959). Saving model... | T_time: 00:06:20, T_speed: 0.395\n",
      "[Epoch 160] T_loss: 1.49626, T_accuracy: 96.5818 | V_loss: 1.52885, V_accuracy: 93.2800 | V_loss decreased (1.52959 --> 1.52885). Saving model... | T_time: 00:06:45, T_speed: 0.395\n",
      "[Epoch 170] T_loss: 1.49407, T_accuracy: 96.8400 | V_loss: 1.52756, V_accuracy: 93.4200 | V_loss decreased (1.52885 --> 1.52756). Saving model... | T_time: 00:07:11, T_speed: 0.394\n",
      "[Epoch 180] T_loss: 1.49471, T_accuracy: 96.6836 | V_loss: 1.52850, V_accuracy: 93.2800 | Early stopping counter: 1 out of 10 | T_time: 00:07:36, T_speed: 0.395\n",
      "[Epoch 190] T_loss: 1.49326, T_accuracy: 96.8964 | V_loss: 1.52816, V_accuracy: 93.3200 | Early stopping counter: 2 out of 10 | T_time: 00:08:01, T_speed: 0.395\n",
      "[Epoch 200] T_loss: 1.49184, T_accuracy: 97.0345 | V_loss: 1.53108, V_accuracy: 93.0400 | Early stopping counter: 3 out of 10 | T_time: 00:08:27, T_speed: 0.394\n",
      "[Epoch 210] T_loss: 1.49091, T_accuracy: 97.1145 | V_loss: 1.52980, V_accuracy: 93.1600 | Early stopping counter: 4 out of 10 | T_time: 00:08:52, T_speed: 0.395\n",
      "[Epoch 220] T_loss: 1.49154, T_accuracy: 97.0236 | V_loss: 1.52964, V_accuracy: 93.1000 | Early stopping counter: 5 out of 10 | T_time: 00:09:17, T_speed: 0.395\n",
      "[Epoch 230] T_loss: 1.48983, T_accuracy: 97.2109 | V_loss: 1.53065, V_accuracy: 93.0200 | Early stopping counter: 6 out of 10 | T_time: 00:09:42, T_speed: 0.395\n",
      "[Epoch 240] T_loss: 1.49063, T_accuracy: 97.1127 | V_loss: 1.52935, V_accuracy: 93.1600 | Early stopping counter: 7 out of 10 | T_time: 00:10:07, T_speed: 0.395\n",
      "[Epoch 250] T_loss: 1.48937, T_accuracy: 97.2618 | V_loss: 1.52874, V_accuracy: 93.0400 | Early stopping counter: 8 out of 10 | T_time: 00:10:33, T_speed: 0.395\n",
      "[Epoch 260] T_loss: 1.49023, T_accuracy: 97.1618 | V_loss: 1.52947, V_accuracy: 93.0800 | Early stopping counter: 9 out of 10 | T_time: 00:10:58, T_speed: 0.395\n",
      "[Epoch 270] T_loss: 1.48762, T_accuracy: 97.4564 | V_loss: 1.52749, V_accuracy: 93.2000 | Early stopping counter: 10 out of 10 *** TRAIN EARLY STOPPED! *** | T_time: 00:11:23, T_speed: 0.395\n",
      "Final training time: 00:11:23\n"
     ]
    },
    {
     "data": {
      "application/vnd.jupyter.widget-view+json": {
       "model_id": "",
       "version_major": 2,
       "version_minor": 0
      },
      "text/plain": [
       "VBox(children=(Label(value='0.009 MB of 0.009 MB uploaded\\r'), FloatProgress(value=1.0, max=1.0)))"
      ]
     },
     "metadata": {},
     "output_type": "display_data"
    },
    {
     "data": {
      "text/html": [
       "\n",
       "    <style>\n",
       "        .wandb-row {\n",
       "            display: flex;\n",
       "            flex-direction: row;\n",
       "            flex-wrap: wrap;\n",
       "            justify-content: flex-start;\n",
       "            width: 100%;\n",
       "        }\n",
       "        .wandb-col {\n",
       "            display: flex;\n",
       "            flex-direction: column;\n",
       "            flex-basis: 100%;\n",
       "            flex: 1;\n",
       "            padding: 10px;\n",
       "        }\n",
       "    </style>\n",
       "<div class=\"wandb-row\"><div class=\"wandb-col\"><h3>Run history:</h3><br/><table class=\"wandb\"><tr><td>Epoch</td><td>▁▁▁▂▂▂▃▃▃▃▄▄▄▄▅▅▅▅▆▆▆▆▇▇▇▇██</td></tr><tr><td>Training accuracy</td><td>▁▆▇▇▇▇▇▇▇▇██████████████████</td></tr><tr><td>Training loss</td><td>█▃▂▂▂▂▂▂▁▁▁▁▁▁▁▁▁▁▁▁▁▁▁▁▁▁▁▁</td></tr><tr><td>Training speed (epochs/sec.)</td><td>█▂▁▁▁▁▁▁▁▁▁▁▁▁▁▁▁▁▁▁▁▁▁▁▁▁▁▁</td></tr><tr><td>Validation accuracy (%)</td><td>▁▇▇▇███▇█▇██████████████████</td></tr><tr><td>Validation loss</td><td>█▂▂▂▁▁▁▁▁▁▁▁▁▁▁▁▁▁▁▁▁▁▁▁▁▁▁▁</td></tr></table><br/></div><div class=\"wandb-col\"><h3>Run summary:</h3><br/><table class=\"wandb\"><tr><td>Epoch</td><td>270</td></tr><tr><td>Training accuracy</td><td>97.45636</td></tr><tr><td>Training loss</td><td>1.48762</td></tr><tr><td>Training speed (epochs/sec.)</td><td>0.39531</td></tr><tr><td>Validation accuracy (%)</td><td>93.2</td></tr><tr><td>Validation loss</td><td>1.52749</td></tr></table><br/></div></div>"
      ],
      "text/plain": [
       "<IPython.core.display.HTML object>"
      ]
     },
     "metadata": {},
     "output_type": "display_data"
    },
    {
     "data": {
      "text/html": [
       " View run <strong style=\"color:#cdcd00\">second_model</strong> at: <a href='https://wandb.ai/kjs0820k-korea-university-of-technology-and-education/Fashion_MNIST/runs/dffx7l9m' target=\"_blank\">https://wandb.ai/kjs0820k-korea-university-of-technology-and-education/Fashion_MNIST/runs/dffx7l9m</a><br/> View project at: <a href='https://wandb.ai/kjs0820k-korea-university-of-technology-and-education/Fashion_MNIST' target=\"_blank\">https://wandb.ai/kjs0820k-korea-university-of-technology-and-education/Fashion_MNIST</a><br/>Synced 5 W&B file(s), 0 media file(s), 0 artifact file(s) and 0 other file(s)"
      ],
      "text/plain": [
       "<IPython.core.display.HTML object>"
      ]
     },
     "metadata": {},
     "output_type": "display_data"
    },
    {
     "data": {
      "text/html": [
       "Find logs at: <code>./wandb/run-20241122_114550-dffx7l9m/logs</code>"
      ],
      "text/plain": [
       "<IPython.core.display.HTML object>"
      ]
     },
     "metadata": {},
     "output_type": "display_data"
    }
   ],
   "source": [
    "name = 'second_model'\n",
    "wandb.init(\n",
    "    mode='online',\n",
    "    project=project_name,\n",
    "    notes='Fashion_MNIST with various models',\n",
    "    name=name,\n",
    "    config=config,\n",
    ")\n",
    "second_model_test = get_second_model()\n",
    "second_model_test.to(device)\n",
    "#Adam 옵티마이저 사용(beta1 = 0.9, beta2 = 0.999)\n",
    "optimizer = torch.optim.Adam(second_model_test.parameters(), lr=wandb.config.learning_rate, betas=(0.9, 0.999))\n",
    "#딥러닝 모델 저장 path\n",
    "second_checkout = os.path.join('checkpoint_second')\n",
    "#Trainer 객체 생성\n",
    "classification_trainer = Trainer(\n",
    "    project_name=project_name,model=second_model_test, optimizer=optimizer,train_data_loader=train_data_loader, validation_data_loader=validation_data_loader,\n",
    "    transforms=f_mnist_transforms, run_time_str=run_time_str,wandb=wandb,device=device,checkpoint_file_path=second_checkout\n",
    ")\n",
    "#학습 시작\n",
    "classification_trainer.train_loop()\n",
    "wandb.finish()"
   ]
  },
  {
   "cell_type": "code",
   "execution_count": 34,
   "id": "ecc82857",
   "metadata": {},
   "outputs": [
    {
     "data": {
      "text/plain": [
       "=====================================================================================================================================================================\n",
       "Layer (type:depth-idx)                   Kernel Shape              Input Shape               Output Shape              Param #                   Mult-Adds\n",
       "=====================================================================================================================================================================\n",
       "second_model                             --                        [1, 1, 28, 28]            [1, 10]                   --                        --\n",
       "├─Sequential: 1-1                        --                        [1, 1, 28, 28]            [1, 10]                   --                        --\n",
       "│    └─Conv2d: 2-1                       [3, 3]                    [1, 1, 28, 28]            [1, 32, 26, 26]           320                       216,320\n",
       "│    └─ReLU: 2-2                         --                        [1, 32, 26, 26]           [1, 32, 26, 26]           --                        --\n",
       "│    └─BatchNorm2d: 2-3                  --                        [1, 32, 26, 26]           [1, 32, 26, 26]           64                        64\n",
       "│    └─Dropout: 2-4                      --                        [1, 32, 26, 26]           [1, 32, 26, 26]           --                        --\n",
       "│    └─MaxPool2d: 2-5                    [2, 2]                    [1, 32, 26, 26]           [1, 32, 13, 13]           --                        --\n",
       "│    └─Conv2d: 2-6                       [3, 3]                    [1, 32, 13, 13]           [1, 64, 11, 11]           18,496                    2,238,016\n",
       "│    └─ReLU: 2-7                         --                        [1, 64, 11, 11]           [1, 64, 11, 11]           --                        --\n",
       "│    └─MaxPool2d: 2-8                    [2, 2]                    [1, 64, 11, 11]           [1, 64, 5, 5]             --                        --\n",
       "│    └─Flatten: 2-9                      --                        [1, 64, 5, 5]             [1, 1600]                 --                        --\n",
       "│    └─Dropout: 2-10                     --                        [1, 1600]                 [1, 1600]                 --                        --\n",
       "│    └─Linear: 2-11                      --                        [1, 1600]                 [1, 128]                  204,928                   204,928\n",
       "│    └─ReLU: 2-12                        --                        [1, 128]                  [1, 128]                  --                        --\n",
       "│    └─BatchNorm1d: 2-13                 --                        [1, 128]                  [1, 128]                  256                       256\n",
       "│    └─Dropout: 2-14                     --                        [1, 128]                  [1, 128]                  --                        --\n",
       "│    └─Linear: 2-15                      --                        [1, 128]                  [1, 10]                   1,290                     1,290\n",
       "│    └─Softmax: 2-16                     --                        [1, 10]                   [1, 10]                   --                        --\n",
       "=====================================================================================================================================================================\n",
       "Total params: 225,354\n",
       "Trainable params: 225,354\n",
       "Non-trainable params: 0\n",
       "Total mult-adds (M): 2.66\n",
       "=====================================================================================================================================================================\n",
       "Input size (MB): 0.00\n",
       "Forward/backward pass size (MB): 0.41\n",
       "Params size (MB): 0.90\n",
       "Estimated Total Size (MB): 1.31\n",
       "====================================================================================================================================================================="
      ]
     },
     "execution_count": 34,
     "metadata": {},
     "output_type": "execute_result"
    }
   ],
   "source": [
    "summary(model=second_model_test, input_size=(1, 1, 28, 28),\n",
    "        col_names=[\"kernel_size\", \"input_size\", \"output_size\", \"num_params\", \"mult_adds\"], dtypes=[torch.float] )"
   ]
  },
  {
   "cell_type": "code",
   "id": "af9d56c6",
   "metadata": {
    "ExecuteTime": {
     "end_time": "2024-11-22T15:47:09.295756Z",
     "start_time": "2024-11-22T15:47:09.283754Z"
    }
   },
   "source": [
    "class third_model(nn.Module):\n",
    "    def __init__(self, input_channels = 1, n_output=10):\n",
    "        super().__init__()\n",
    "        self.model = nn.Sequential(\n",
    "            nn.Conv2d(in_channels=input_channels, out_channels=32, kernel_size=(3,3), stride=1),\n",
    "            nn.ReLU(),\n",
    "            nn.LazyBatchNorm2d(),\n",
    "            nn.Dropout(0.3),\n",
    "            nn.LazyConv2d(out_channels=32, kernel_size=(3,3), stride=1),\n",
    "            nn.ReLU(),\n",
    "            nn.LazyBatchNorm2d(),\n",
    "            nn.Dropout(0.3),\n",
    "            nn.LazyConv2d(out_channels=64, kernel_size=(3,3), stride=1),\n",
    "            nn.ReLU(),\n",
    "            nn.MaxPool2d(kernel_size=(2,2), stride=1),\n",
    "            nn.Dropout(0.3),\n",
    "            nn.Flatten(),\n",
    "            nn.LazyLinear(out_features=512),\n",
    "            nn.ReLU(),\n",
    "            nn.LazyBatchNorm1d(),\n",
    "            nn.Dropout(0.5),\n",
    "            nn.LazyLinear(128),\n",
    "            nn.ReLU(),\n",
    "            nn.LazyBatchNorm1d(),\n",
    "            nn.Dropout(0.5),\n",
    "            nn.LazyLinear(n_output),\n",
    "            nn.Softmax(),\n",
    "            \n",
    "        )\n",
    "    def forward(self, x):\n",
    "        x = self.model(x)\n",
    "        return x\n",
    "            \n",
    "    \n",
    "def get_third_model():\n",
    "    model = third_model()\n",
    "    return model"
   ],
   "outputs": [],
   "execution_count": 6
  },
  {
   "cell_type": "code",
   "execution_count": 36,
   "id": "4bbbbc93",
   "metadata": {},
   "outputs": [
    {
     "data": {
      "application/vnd.jupyter.widget-view+json": {
       "model_id": "d6037105e1c1418891dc80349f91376e",
       "version_major": 2,
       "version_minor": 0
      },
      "text/plain": [
       "VBox(children=(Label(value='Waiting for wandb.init()...\\r'), FloatProgress(value=0.011113115068938997, max=1.0…"
      ]
     },
     "metadata": {},
     "output_type": "display_data"
    },
    {
     "data": {
      "text/html": [
       "Tracking run with wandb version 0.18.7"
      ],
      "text/plain": [
       "<IPython.core.display.HTML object>"
      ]
     },
     "metadata": {},
     "output_type": "display_data"
    },
    {
     "data": {
      "text/html": [
       "Run data is saved locally in <code>/home/work/link_dl/wandb/run-20241122_120057-l1igllu4</code>"
      ],
      "text/plain": [
       "<IPython.core.display.HTML object>"
      ]
     },
     "metadata": {},
     "output_type": "display_data"
    },
    {
     "data": {
      "text/html": [
       "Syncing run <strong><a href='https://wandb.ai/kjs0820k-korea-university-of-technology-and-education/Fashion_MNIST/runs/l1igllu4' target=\"_blank\">third_model</a></strong> to <a href='https://wandb.ai/kjs0820k-korea-university-of-technology-and-education/Fashion_MNIST' target=\"_blank\">Weights & Biases</a> (<a href='https://wandb.me/developer-guide' target=\"_blank\">docs</a>)<br/>"
      ],
      "text/plain": [
       "<IPython.core.display.HTML object>"
      ]
     },
     "metadata": {},
     "output_type": "display_data"
    },
    {
     "data": {
      "text/html": [
       " View project at <a href='https://wandb.ai/kjs0820k-korea-university-of-technology-and-education/Fashion_MNIST' target=\"_blank\">https://wandb.ai/kjs0820k-korea-university-of-technology-and-education/Fashion_MNIST</a>"
      ],
      "text/plain": [
       "<IPython.core.display.HTML object>"
      ]
     },
     "metadata": {},
     "output_type": "display_data"
    },
    {
     "data": {
      "text/html": [
       " View run at <a href='https://wandb.ai/kjs0820k-korea-university-of-technology-and-education/Fashion_MNIST/runs/l1igllu4' target=\"_blank\">https://wandb.ai/kjs0820k-korea-university-of-technology-and-education/Fashion_MNIST/runs/l1igllu4</a>"
      ],
      "text/plain": [
       "<IPython.core.display.HTML object>"
      ]
     },
     "metadata": {},
     "output_type": "display_data"
    },
    {
     "name": "stdout",
     "output_type": "stream",
     "text": [
      "[Epoch   1] T_loss: 1.78634, T_accuracy: 72.9036 | V_loss: 1.79341, V_accuracy: 72.6400 | Early stopping is stated! | T_time: 00:00:03, T_speed: 0.333\n",
      "[Epoch  10] T_loss: 1.54912, T_accuracy: 91.6382 | V_loss: 1.54510, V_accuracy: 91.7000 | V_loss decreased (1.79341 --> 1.54510). Saving model... | T_time: 00:00:28, T_speed: 0.357\n",
      "[Epoch  20] T_loss: 1.52697, T_accuracy: 93.6455 | V_loss: 1.53253, V_accuracy: 93.0000 | V_loss decreased (1.54510 --> 1.53253). Saving model... | T_time: 00:00:56, T_speed: 0.357\n",
      "[Epoch  30] T_loss: 1.51625, T_accuracy: 94.6745 | V_loss: 1.53285, V_accuracy: 92.8800 | Early stopping counter: 1 out of 10 | T_time: 00:01:24, T_speed: 0.357\n",
      "[Epoch  40] T_loss: 1.50851, T_accuracy: 95.4200 | V_loss: 1.52623, V_accuracy: 93.5200 | V_loss decreased (1.53253 --> 1.52623). Saving model... | T_time: 00:01:52, T_speed: 0.357\n",
      "[Epoch  50] T_loss: 1.50158, T_accuracy: 96.0455 | V_loss: 1.52554, V_accuracy: 93.6200 | V_loss decreased (1.52623 --> 1.52554). Saving model... | T_time: 00:02:21, T_speed: 0.355\n",
      "[Epoch  60] T_loss: 1.49615, T_accuracy: 96.6018 | V_loss: 1.52646, V_accuracy: 93.6200 | Early stopping counter: 1 out of 10 | T_time: 00:02:49, T_speed: 0.355\n",
      "[Epoch  70] T_loss: 1.49187, T_accuracy: 96.9982 | V_loss: 1.52349, V_accuracy: 93.6800 | V_loss decreased (1.52554 --> 1.52349). Saving model... | T_time: 00:03:18, T_speed: 0.354\n",
      "[Epoch  80] T_loss: 1.48949, T_accuracy: 97.2636 | V_loss: 1.52200, V_accuracy: 94.0200 | V_loss decreased (1.52349 --> 1.52200). Saving model... | T_time: 00:03:46, T_speed: 0.354\n",
      "[Epoch  90] T_loss: 1.49232, T_accuracy: 96.9618 | V_loss: 1.52566, V_accuracy: 93.5800 | Early stopping counter: 1 out of 10 | T_time: 00:04:15, T_speed: 0.353\n",
      "[Epoch 100] T_loss: 1.48632, T_accuracy: 97.5509 | V_loss: 1.52363, V_accuracy: 93.7200 | Early stopping counter: 2 out of 10 | T_time: 00:04:43, T_speed: 0.353\n",
      "[Epoch 110] T_loss: 1.48513, T_accuracy: 97.6273 | V_loss: 1.52337, V_accuracy: 93.8400 | Early stopping counter: 3 out of 10 | T_time: 00:05:11, T_speed: 0.354\n",
      "[Epoch 120] T_loss: 1.48164, T_accuracy: 97.9909 | V_loss: 1.52176, V_accuracy: 93.9600 | V_loss decreased (1.52200 --> 1.52176). Saving model... | T_time: 00:05:39, T_speed: 0.354\n",
      "[Epoch 130] T_loss: 1.48064, T_accuracy: 98.0855 | V_loss: 1.52013, V_accuracy: 93.9800 | V_loss decreased (1.52176 --> 1.52013). Saving model... | T_time: 00:06:08, T_speed: 0.353\n",
      "[Epoch 140] T_loss: 1.47983, T_accuracy: 98.1618 | V_loss: 1.52168, V_accuracy: 93.9800 | Early stopping counter: 1 out of 10 | T_time: 00:06:36, T_speed: 0.354\n",
      "[Epoch 150] T_loss: 1.47861, T_accuracy: 98.2800 | V_loss: 1.52166, V_accuracy: 93.8000 | Early stopping counter: 2 out of 10 | T_time: 00:07:04, T_speed: 0.354\n",
      "[Epoch 160] T_loss: 1.47705, T_accuracy: 98.4509 | V_loss: 1.52038, V_accuracy: 94.0800 | Early stopping counter: 3 out of 10 | T_time: 00:07:33, T_speed: 0.353\n",
      "[Epoch 170] T_loss: 1.47687, T_accuracy: 98.4509 | V_loss: 1.52239, V_accuracy: 93.8200 | Early stopping counter: 4 out of 10 | T_time: 00:08:01, T_speed: 0.353\n",
      "[Epoch 180] T_loss: 1.47543, T_accuracy: 98.6018 | V_loss: 1.52008, V_accuracy: 94.1600 | Early stopping counter: 5 out of 10 | T_time: 00:08:29, T_speed: 0.354\n",
      "[Epoch 190] T_loss: 1.47613, T_accuracy: 98.5164 | V_loss: 1.52205, V_accuracy: 93.8800 | Early stopping counter: 6 out of 10 | T_time: 00:08:57, T_speed: 0.354\n",
      "[Epoch 200] T_loss: 1.47445, T_accuracy: 98.6673 | V_loss: 1.52301, V_accuracy: 93.7200 | Early stopping counter: 7 out of 10 | T_time: 00:09:24, T_speed: 0.355\n",
      "[Epoch 210] T_loss: 1.47463, T_accuracy: 98.6673 | V_loss: 1.52085, V_accuracy: 94.0200 | Early stopping counter: 8 out of 10 | T_time: 00:09:53, T_speed: 0.354\n",
      "[Epoch 220] T_loss: 1.47426, T_accuracy: 98.7164 | V_loss: 1.52220, V_accuracy: 93.9800 | Early stopping counter: 9 out of 10 | T_time: 00:10:21, T_speed: 0.354\n",
      "[Epoch 230] T_loss: 1.47314, T_accuracy: 98.8255 | V_loss: 1.52048, V_accuracy: 94.0400 | Early stopping counter: 10 out of 10 *** TRAIN EARLY STOPPED! *** | T_time: 00:10:50, T_speed: 0.354\n",
      "Final training time: 00:10:50\n"
     ]
    },
    {
     "data": {
      "application/vnd.jupyter.widget-view+json": {
       "model_id": "",
       "version_major": 2,
       "version_minor": 0
      },
      "text/plain": [
       "VBox(children=(Label(value='0.009 MB of 0.009 MB uploaded\\r'), FloatProgress(value=1.0, max=1.0)))"
      ]
     },
     "metadata": {},
     "output_type": "display_data"
    },
    {
     "data": {
      "text/html": [
       "\n",
       "    <style>\n",
       "        .wandb-row {\n",
       "            display: flex;\n",
       "            flex-direction: row;\n",
       "            flex-wrap: wrap;\n",
       "            justify-content: flex-start;\n",
       "            width: 100%;\n",
       "        }\n",
       "        .wandb-col {\n",
       "            display: flex;\n",
       "            flex-direction: column;\n",
       "            flex-basis: 100%;\n",
       "            flex: 1;\n",
       "            padding: 10px;\n",
       "        }\n",
       "    </style>\n",
       "<div class=\"wandb-row\"><div class=\"wandb-col\"><h3>Run history:</h3><br/><table class=\"wandb\"><tr><td>Epoch</td><td>▁▁▂▂▂▂▃▃▃▄▄▄▅▅▅▆▆▆▆▇▇▇██</td></tr><tr><td>Training accuracy</td><td>▁▆▇▇▇▇▇██▇██████████████</td></tr><tr><td>Training loss</td><td>█▃▂▂▂▂▂▁▁▁▁▁▁▁▁▁▁▁▁▁▁▁▁▁</td></tr><tr><td>Training speed (epochs/sec.)</td><td>▁████▇▇▇▇▇▇▇▇▇▇▇▇▇▇▇▇▇▇▇</td></tr><tr><td>Validation accuracy (%)</td><td>▁▇██████████████████████</td></tr><tr><td>Validation loss</td><td>█▂▁▁▁▁▁▁▁▁▁▁▁▁▁▁▁▁▁▁▁▁▁▁</td></tr></table><br/></div><div class=\"wandb-col\"><h3>Run summary:</h3><br/><table class=\"wandb\"><tr><td>Epoch</td><td>230</td></tr><tr><td>Training accuracy</td><td>98.82545</td></tr><tr><td>Training loss</td><td>1.47314</td></tr><tr><td>Training speed (epochs/sec.)</td><td>0.35385</td></tr><tr><td>Validation accuracy (%)</td><td>94.04</td></tr><tr><td>Validation loss</td><td>1.52048</td></tr></table><br/></div></div>"
      ],
      "text/plain": [
       "<IPython.core.display.HTML object>"
      ]
     },
     "metadata": {},
     "output_type": "display_data"
    },
    {
     "data": {
      "text/html": [
       " View run <strong style=\"color:#cdcd00\">third_model</strong> at: <a href='https://wandb.ai/kjs0820k-korea-university-of-technology-and-education/Fashion_MNIST/runs/l1igllu4' target=\"_blank\">https://wandb.ai/kjs0820k-korea-university-of-technology-and-education/Fashion_MNIST/runs/l1igllu4</a><br/> View project at: <a href='https://wandb.ai/kjs0820k-korea-university-of-technology-and-education/Fashion_MNIST' target=\"_blank\">https://wandb.ai/kjs0820k-korea-university-of-technology-and-education/Fashion_MNIST</a><br/>Synced 5 W&B file(s), 0 media file(s), 0 artifact file(s) and 0 other file(s)"
      ],
      "text/plain": [
       "<IPython.core.display.HTML object>"
      ]
     },
     "metadata": {},
     "output_type": "display_data"
    },
    {
     "data": {
      "text/html": [
       "Find logs at: <code>./wandb/run-20241122_120057-l1igllu4/logs</code>"
      ],
      "text/plain": [
       "<IPython.core.display.HTML object>"
      ]
     },
     "metadata": {},
     "output_type": "display_data"
    }
   ],
   "source": [
    "name = 'third_model'\n",
    "wandb.init(\n",
    "    mode='online',\n",
    "    project=project_name,\n",
    "    notes='Fashion_MNIST with various models',\n",
    "    name=name,\n",
    "    config=config,\n",
    ")\n",
    "third_model_test = get_third_model()\n",
    "third_model_test.to(device)\n",
    "#Adam 옵티마이저 사용(beta1 = 0.9, beta2 = 0.999)\n",
    "optimizer = torch.optim.Adam(third_model_test.parameters(), lr=wandb.config.learning_rate, betas=(0.9, 0.999))\n",
    "#딥러닝 모델 저장하기 위한 path\n",
    "third_checkout = os.path.join('checkpoint_third')\n",
    "#Trainer 객체 생성\n",
    "classification_trainer = Trainer(\n",
    "    project_name=project_name,model=third_model_test, optimizer=optimizer,train_data_loader=train_data_loader, validation_data_loader=validation_data_loader,\n",
    "    transforms=f_mnist_transforms, run_time_str=run_time_str,wandb=wandb,device=device,checkpoint_file_path=third_checkout\n",
    ")\n",
    "#학습 시작\n",
    "classification_trainer.train_loop()\n",
    "wandb.finish()"
   ]
  },
  {
   "cell_type": "code",
   "execution_count": 37,
   "id": "74658dcb",
   "metadata": {},
   "outputs": [
    {
     "data": {
      "text/plain": [
       "=====================================================================================================================================================================\n",
       "Layer (type:depth-idx)                   Kernel Shape              Input Shape               Output Shape              Param #                   Mult-Adds\n",
       "=====================================================================================================================================================================\n",
       "second_model                             --                        [1, 1, 28, 28]            [1, 10]                   --                        --\n",
       "├─Sequential: 1-1                        --                        [1, 1, 28, 28]            [1, 10]                   --                        --\n",
       "│    └─Conv2d: 2-1                       [3, 3]                    [1, 1, 28, 28]            [1, 32, 26, 26]           320                       216,320\n",
       "│    └─ReLU: 2-2                         --                        [1, 32, 26, 26]           [1, 32, 26, 26]           --                        --\n",
       "│    └─BatchNorm2d: 2-3                  --                        [1, 32, 26, 26]           [1, 32, 26, 26]           64                        64\n",
       "│    └─Dropout: 2-4                      --                        [1, 32, 26, 26]           [1, 32, 26, 26]           --                        --\n",
       "│    └─MaxPool2d: 2-5                    [2, 2]                    [1, 32, 26, 26]           [1, 32, 13, 13]           --                        --\n",
       "│    └─Conv2d: 2-6                       [3, 3]                    [1, 32, 13, 13]           [1, 64, 11, 11]           18,496                    2,238,016\n",
       "│    └─ReLU: 2-7                         --                        [1, 64, 11, 11]           [1, 64, 11, 11]           --                        --\n",
       "│    └─MaxPool2d: 2-8                    [2, 2]                    [1, 64, 11, 11]           [1, 64, 5, 5]             --                        --\n",
       "│    └─Flatten: 2-9                      --                        [1, 64, 5, 5]             [1, 1600]                 --                        --\n",
       "│    └─Dropout: 2-10                     --                        [1, 1600]                 [1, 1600]                 --                        --\n",
       "│    └─Linear: 2-11                      --                        [1, 1600]                 [1, 128]                  204,928                   204,928\n",
       "│    └─ReLU: 2-12                        --                        [1, 128]                  [1, 128]                  --                        --\n",
       "│    └─BatchNorm1d: 2-13                 --                        [1, 128]                  [1, 128]                  256                       256\n",
       "│    └─Dropout: 2-14                     --                        [1, 128]                  [1, 128]                  --                        --\n",
       "│    └─Linear: 2-15                      --                        [1, 128]                  [1, 10]                   1,290                     1,290\n",
       "│    └─Softmax: 2-16                     --                        [1, 10]                   [1, 10]                   --                        --\n",
       "=====================================================================================================================================================================\n",
       "Total params: 225,354\n",
       "Trainable params: 225,354\n",
       "Non-trainable params: 0\n",
       "Total mult-adds (M): 2.66\n",
       "=====================================================================================================================================================================\n",
       "Input size (MB): 0.00\n",
       "Forward/backward pass size (MB): 0.41\n",
       "Params size (MB): 0.90\n",
       "Estimated Total Size (MB): 1.31\n",
       "====================================================================================================================================================================="
      ]
     },
     "execution_count": 37,
     "metadata": {},
     "output_type": "execute_result"
    }
   ],
   "source": [
    "summary(model=second_model_test, input_size=(1, 1, 28, 28),\n",
    "        col_names=[\"kernel_size\", \"input_size\", \"output_size\", \"num_params\", \"mult_adds\"], dtypes=[torch.float] )"
   ]
  },
  {
   "metadata": {},
   "cell_type": "markdown",
   "source": [
    "### Learning Rate는 0.001    \n",
    "### Batch Size는 128개  \n",
    "### Early Stop Patience의 경우 validation이 10번동안 안떨어지면 종료하도록함\n",
    "### Weight_decay는 사용하지 않았습니다.\n",
    "### Normalization은 매 컨볼루션 층에는 Relu 후에 BatchNormalization 2d가 사용되었고 Linear에서는 마지막 10개의 채널 구하기 전에 BatchNormalization 1d를 사용하였습니다.\n",
    "### Dropout의 경우 매 컨볼루션 층에서 0.3을 주고 Flatten이후에는 LinearLayout에서는 0.5를 주었습니다. \n",
    "### 추가적으로 optimizer는 Adam을 사용했고 beta1 = 0.9, beta2 = 0.999를 사용했습니다. \n",
    "### Validation Accuracy 94.04가 나왔습니다."
   ],
   "id": "cb755f5a8f7b2561"
  },
  {
   "metadata": {},
   "cell_type": "markdown",
   "source": "<H1>[문제 3]학습 완료된 모델로 테스트 데이터 Accuracy 확인하기",
   "id": "e0258b8b53df1b70"
  },
  {
   "cell_type": "code",
   "id": "68deea5f",
   "metadata": {
    "ExecuteTime": {
     "end_time": "2024-11-22T15:46:23.559656Z",
     "start_time": "2024-11-22T15:46:23.104554Z"
    }
   },
   "source": [
    "import matplotlib.pyplot as plt\n",
    "#ClassificationTester를 참고하여 tester클래서 정의\n",
    "\n",
    "class Tester:\n",
    "    def __init__(self, project_name, model, test_data_loader, transforms, checkpoint_file_path):\n",
    "        self.project_name = project_name\n",
    "        self.test_data_loader = test_data_loader\n",
    "        self.transforms = transforms\n",
    "        self.latest_file_path = os.path.join(checkpoint_file_path, f'{project_name}_checkpoint_latest.pt')\n",
    "        self.model = model\n",
    "        self.device = torch.device('cuda' if torch.cuda.is_available() else 'cpu')\n",
    "\n",
    "        \n",
    "        print(\"MODEL FILE: {0}\".format(self.latest_file_path))\n",
    "        \n",
    "        self.model.load_state_dict(torch.load(self.latest_file_path, map_location=self.device))\n",
    "        self.all_images = []\n",
    "        self.all_labels = []\n",
    "        self.all_predictions = []\n",
    "    \n",
    "    def test(self):\n",
    "        self.model.eval()\n",
    "        num_correct = 0\n",
    "        num_tested_samples = 0\n",
    "        \n",
    "        with torch.no_grad():\n",
    "            for images, labels in self.test_data_loader:\n",
    "                if self.transforms:\n",
    "                    images = self.transforms(images)\n",
    "                \n",
    "                test_output = self.model(images)\n",
    "                test_predicted = torch.argmax(test_output, dim=-1)\n",
    "                num_correct += (test_predicted == labels).sum().item()\n",
    "                num_tested_samples += len(labels)\n",
    "                #이미지 저장해주기 \n",
    "                self.all_images.append(images.cpu())\n",
    "                self.all_labels.append(labels.cpu())\n",
    "                self.all_predictions.append(test_predicted.cpu())\n",
    "                \n",
    "            test_accuracy = 100.0 * num_correct / num_tested_samples\n",
    "        \n",
    "        print(f\"Test Accuracy: {test_accuracy:.2f}%\")\n",
    "    def visualize_random_predictions(self):\n",
    "        #label index별 이름\n",
    "        label_names = [\n",
    "            \"T-shirt/top\", \"Trouser\", \"Pullover\", \"Dress\", \"Coat\",\n",
    "            \"Sandal\", \"Shirt\", \"Sneaker\", \"Bag\", \"Ankle boot\"\n",
    "        ]\n",
    "        #모든 image, label, predicted_label를 0차원을 기준으로 합치기\n",
    "        images = torch.cat(self.all_images, dim=0)\n",
    "        labels = torch.cat(self.all_labels, dim=0)\n",
    "        predictions = torch.cat(self.all_predictions, dim=0)\n",
    "\n",
    "        #random 하게 10개 선택\n",
    "        indices = torch.randperm(len(images))[:10]\n",
    "        #선택된 이미지들 라스트 저장\n",
    "        selected_images = images[indices]\n",
    "        selected_labels = labels[indices]\n",
    "        selected_predictions = predictions[indices]\n",
    "\n",
    "        # Plot the samples\n",
    "        fig, axes = plt.subplots(1, 10, figsize=(20, 3))\n",
    "        for i, ax in enumerate(axes):\n",
    "            #channel demension을 없애기 위해 squeeze()함수 실행\n",
    "            img = selected_images[i].squeeze().numpy()  \n",
    "            #아까 만든 label 이름과 선택된 prediction과 매칭\n",
    "            predicted_name = label_names[selected_predictions[i].item()]\n",
    "            #아까 만든 label 이름과 선택된 실제 label과 매칭\n",
    "            actual_name = label_names[selected_labels[i].item()]\n",
    "            #이미지 10개 보여주기\n",
    "            ax.imshow(img, cmap='gray')\n",
    "            ax.set_title(f\"P: {predicted_name}\\nL: {actual_name}\")\n",
    "            ax.axis('off')\n",
    "        plt.tight_layout()\n",
    "        plt.show()"
   ],
   "outputs": [],
   "execution_count": 1
  },
  {
   "cell_type": "code",
   "id": "b7814db2",
   "metadata": {
    "ExecuteTime": {
     "end_time": "2024-11-22T15:47:41.173885Z",
     "start_time": "2024-11-22T15:47:35.839694Z"
    }
   },
   "source": [
    "f_mnist_test_images, f_mnist_test_data_loader, f_mnist_transforms = get_fashion_mnist_test_data()\n",
    "third_checkout = os.path.join('checkpoint_third')\n",
    "project_name = 'Fashion_MNIST'\n",
    "test_model = get_third_model()\n",
    "classification_Tester = Tester(project_name, test_model, f_mnist_test_data_loader, f_mnist_transforms, third_checkout)\n",
    "classification_Tester.test()"
   ],
   "outputs": [
    {
     "name": "stdout",
     "output_type": "stream",
     "text": [
      "Num Test Samples:  10000\n",
      "Sample Shape:  torch.Size([1, 28, 28])\n",
      "MODEL FILE: checkpoint_third\\Fashion_MNIST_checkpoint_latest.pt\n"
     ]
    },
    {
     "name": "stderr",
     "output_type": "stream",
     "text": [
      "C:\\Users\\Jinsung\\AppData\\Local\\Temp\\ipykernel_13660\\657986583.py:16: FutureWarning: You are using `torch.load` with `weights_only=False` (the current default value), which uses the default pickle module implicitly. It is possible to construct malicious pickle data which will execute arbitrary code during unpickling (See https://github.com/pytorch/pytorch/blob/main/SECURITY.md#untrusted-models for more details). In a future release, the default value for `weights_only` will be flipped to `True`. This limits the functions that could be executed during unpickling. Arbitrary objects will no longer be allowed to be loaded via this mode unless they are explicitly allowlisted by the user via `torch.serialization.add_safe_globals`. We recommend you start setting `weights_only=True` for any use case where you don't have full control of the loaded file. Please open an issue on GitHub for any issues related to this experimental feature.\n",
      "  self.model.load_state_dict(torch.load(self.latest_file_path, map_location=self.device))\n"
     ]
    },
    {
     "name": "stdout",
     "output_type": "stream",
     "text": [
      "Test Accuracy: 93.33%\n"
     ]
    }
   ],
   "execution_count": 8
  },
  {
   "metadata": {},
   "cell_type": "markdown",
   "source": "<H3> Test Accuracy: 93.33%가 나왔습니다",
   "id": "ecc36f9bf74ce8a7"
  },
  {
   "metadata": {},
   "cell_type": "markdown",
   "source": "<H1>[문제 4]샘플 테스트 데이터 분류 예측 결과 확인하기 ",
   "id": "f1ef52aa57147627"
  },
  {
   "metadata": {
    "ExecuteTime": {
     "end_time": "2024-11-22T15:48:06.261793Z",
     "start_time": "2024-11-22T15:48:05.872706Z"
    }
   },
   "cell_type": "code",
   "source": "classification_Tester.visualize_random_predictions()",
   "id": "daba8d3ebd98e34d",
   "outputs": [
    {
     "data": {
      "text/plain": [
       "<Figure size 2000x300 with 10 Axes>"
      ],
      "image/png": "[encoded data removed]"
     },
     "metadata": {},
     "output_type": "display_data"
    }
   ],
   "execution_count": 10
  },
  {
   "metadata": {},
   "cell_type": "markdown",
   "source": "<h4>2번째 있는 것이 기존 label이 Shirt인데 T-Shirt/top로 나왔는데 육안으로 확인해도 shirt보다는 T-shirt라고 생각이 들 정도로 화질이 좋지 않아서 Shirt와 T-Shirt/top에 대한 구분을 확실하게 하지 못한것 같습니다. 또한 전반적으로fashion_mnist의 pixel이 28*28이다 보니 화질이 좋지않아서 상의 계열, 하의 계열, 신발 계열등은 잘 분리하는데 상의 계열 내부적으로는 구분을 정확히 하기 힘들것 같습니다. 이 경우의 화질이 조금은 더 좋은 데이터로 학습을 한다면 이보다 더 구분을 잘할 수 있다고 생각합니다.",
   "id": "7f8f5512f7e01f6c"
  },
  {
   "metadata": {},
   "cell_type": "markdown",
   "source": "<H1>숙제 후기",
   "id": "698191741f7db26f"
  },
  {
   "metadata": {},
   "cell_type": "markdown",
   "source": "이번 과제를 진행하면서 하이퍼 파라미터 조정하는게 딥러닝에서 엄청나게 중요하구나라는 것을 알았습니다. 실제로 같은 모델에서도 하이퍼파라미터를 변경을 자주 진행하였습니다. 그리고 또한 Dropout, BatchNormalization을 주는 위치, 강도등을 변경을 하면서도 진행했는데 확실히 성능이 큰폭으로 변화가 있었습니다. 이번에는 backend ai환경에서 진행했는데 집에서 3080쓰고 학습을 진행해봤는데 너무 오래걸려서 중간에 중단한 적도 있습니다. 확실히 이번에 학교에서 제공해준 환경이 많은 도움과 시간 단축이 되었습니다. 이 Fashion MNIST는 실제 사진보다는 feature가 많지 않아서 그런지 다른 ResNet, Vgg같은 것을 써보았는데 확실히 성능이 좋지 않았습니다. 그래서 Fashion MNIST는 흑백이미지이지만 다른 색 이미지에 화질이 조금 더 많은 이미지를 통해서 학습을 해보면 더 좋을 것 같습니다.",
   "id": "cd77577c9f6cfce8"
  },
  {
   "metadata": {},
   "cell_type": "markdown",
   "source": "",
   "id": "d1609b52379e4656"
  }
 ],
 "metadata": {
  "kernelspec": {
   "display_name": "PyTorch 2.3 (NGC 24.03/Python 3.10) on Backend.AI",
   "language": "python",
   "name": "python3"
  },
  "language_info": {
   "codemirror_mode": {
    "name": "ipython",
    "version": 3
   },
   "file_extension": ".py",
   "mimetype": "text/x-python",
   "name": "python",
   "nbconvert_exporter": "python",
   "pygments_lexer": "ipython3",
   "version": "3.10.12"
  }
 },
 "nbformat": 4,
 "nbformat_minor": 5
}
